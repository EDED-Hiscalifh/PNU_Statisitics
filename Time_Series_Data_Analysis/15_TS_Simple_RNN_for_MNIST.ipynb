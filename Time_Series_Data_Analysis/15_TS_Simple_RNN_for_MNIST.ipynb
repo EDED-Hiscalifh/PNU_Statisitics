{
 "cells": [
  {
   "cell_type": "code",
   "execution_count": 1,
   "metadata": {
    "id": "mF9MLKHhyAKa"
   },
   "outputs": [],
   "source": [
    "import numpy as np\n",
    "from tensorflow.keras.models import Sequential\n",
    "from tensorflow.keras.layers import Dense, Activation, SimpleRNN\n",
    "from tensorflow.keras.utils import to_categorical\n",
    "from tensorflow.keras.datasets import mnist"
   ]
  },
  {
   "cell_type": "code",
   "execution_count": 2,
   "metadata": {
    "colab": {
     "base_uri": "https://localhost:8080/"
    },
    "id": "FCGnjWG_yIhO",
    "outputId": "1e14e2fe-bcb8-4d76-fa82-bf656e1a5fc5"
   },
   "outputs": [
    {
     "name": "stdout",
     "output_type": "stream",
     "text": [
      "Downloading data from https://storage.googleapis.com/tensorflow/tf-keras-datasets/mnist.npz\n",
      "11493376/11490434 [==============================] - 0s 0us/step\n",
      "11501568/11490434 [==============================] - 0s 0us/step\n"
     ]
    }
   ],
   "source": [
    "### load mnist dataset\n",
    "(x_train, y_train), (x_test, y_test) = mnist.load_data()"
   ]
  },
  {
   "cell_type": "code",
   "execution_count": 3,
   "metadata": {
    "id": "Nbl0TJHVyQCM"
   },
   "outputs": [],
   "source": [
    "### compute the number of labels\n",
    "num_labels = len(np.unique(y_train))"
   ]
  },
  {
   "cell_type": "code",
   "execution_count": 4,
   "metadata": {
    "id": "Ep-Pd1UIyR8t"
   },
   "outputs": [],
   "source": [
    "### convert to one-hot vector\n",
    "y_train = to_categorical(y_train)\n",
    "y_test = to_categorical(y_test)"
   ]
  },
  {
   "cell_type": "code",
   "execution_count": 5,
   "metadata": {
    "id": "facHu2upyULF"
   },
   "outputs": [],
   "source": [
    "### resize and normalize\n",
    "image_size = x_train.shape[1]\n",
    "x_train = np.reshape(x_train,[-1, image_size, image_size])\n",
    "x_test = np.reshape(x_test,[-1, image_size, image_size])\n",
    "x_train = x_train.astype('float32') / 255\n",
    "x_test = x_test.astype('float32') / 255"
   ]
  },
  {
   "cell_type": "code",
   "execution_count": 6,
   "metadata": {
    "id": "OV0keSjYyWG0"
   },
   "outputs": [],
   "source": [
    "### network parameters\n",
    "input_shape = (image_size, image_size)\n",
    "batch_size = 128\n",
    "units = 256\n",
    "dropout = 0.2"
   ]
  },
  {
   "cell_type": "code",
   "execution_count": 7,
   "metadata": {
    "id": "SPhC_PRmyYts"
   },
   "outputs": [],
   "source": [
    "### model is RNN with 256 units, input is 28-dim vector 28 timesteps\n",
    "model = Sequential()\n",
    "model.add(SimpleRNN(units=units,\n",
    "                    dropout=dropout,\n",
    "                    input_shape=input_shape))\n",
    "model.add(Dense(num_labels))\n",
    "model.add(Activation('softmax'))"
   ]
  },
  {
   "cell_type": "code",
   "execution_count": 8,
   "metadata": {
    "colab": {
     "base_uri": "https://localhost:8080/"
    },
    "id": "VjGyLy8XyaqF",
    "outputId": "b491d0ff-ad34-4484-af08-319cea436c79"
   },
   "outputs": [
    {
     "name": "stdout",
     "output_type": "stream",
     "text": [
      "Model: \"sequential\"\n",
      "_________________________________________________________________\n",
      " Layer (type)                Output Shape              Param #   \n",
      "=================================================================\n",
      " simple_rnn (SimpleRNN)      (None, 256)               72960     \n",
      "                                                                 \n",
      " dense (Dense)               (None, 10)                2570      \n",
      "                                                                 \n",
      " activation (Activation)     (None, 10)                0         \n",
      "                                                                 \n",
      "=================================================================\n",
      "Total params: 75,530\n",
      "Trainable params: 75,530\n",
      "Non-trainable params: 0\n",
      "_________________________________________________________________\n"
     ]
    }
   ],
   "source": [
    "model.summary()"
   ]
  },
  {
   "cell_type": "code",
   "execution_count": 9,
   "metadata": {
    "id": "39_qf7MzycdE"
   },
   "outputs": [],
   "source": [
    "model.compile(loss='categorical_crossentropy',\n",
    "              optimizer='sgd',\n",
    "              metrics=['accuracy'])"
   ]
  },
  {
   "cell_type": "code",
   "execution_count": 10,
   "metadata": {
    "colab": {
     "base_uri": "https://localhost:8080/"
    },
    "id": "qEcOy7wKyfE8",
    "outputId": "60b0271d-33bb-4ce7-93b2-067ab69a036b"
   },
   "outputs": [
    {
     "name": "stdout",
     "output_type": "stream",
     "text": [
      "Epoch 1/20\n",
      "469/469 [==============================] - 32s 65ms/step - loss: 0.7433 - accuracy: 0.7851\n",
      "Epoch 2/20\n",
      "469/469 [==============================] - 29s 63ms/step - loss: 0.3231 - accuracy: 0.9063\n",
      "Epoch 3/20\n",
      "469/469 [==============================] - 29s 62ms/step - loss: 0.2408 - accuracy: 0.9282\n",
      "Epoch 4/20\n",
      "469/469 [==============================] - 30s 63ms/step - loss: 0.2010 - accuracy: 0.9402\n",
      "Epoch 5/20\n",
      "469/469 [==============================] - 29s 62ms/step - loss: 0.1740 - accuracy: 0.9484\n",
      "Epoch 6/20\n",
      "469/469 [==============================] - 29s 63ms/step - loss: 0.1577 - accuracy: 0.9535\n",
      "Epoch 7/20\n",
      "469/469 [==============================] - 29s 63ms/step - loss: 0.1429 - accuracy: 0.9577\n",
      "Epoch 8/20\n",
      "469/469 [==============================] - 30s 63ms/step - loss: 0.1303 - accuracy: 0.9604\n",
      "Epoch 9/20\n",
      "469/469 [==============================] - 29s 62ms/step - loss: 0.1218 - accuracy: 0.9633\n",
      "Epoch 10/20\n",
      "469/469 [==============================] - 29s 62ms/step - loss: 0.1125 - accuracy: 0.9663\n",
      "Epoch 11/20\n",
      "469/469 [==============================] - 29s 63ms/step - loss: 0.1085 - accuracy: 0.9670\n",
      "Epoch 12/20\n",
      "469/469 [==============================] - 29s 63ms/step - loss: 0.1008 - accuracy: 0.9686\n",
      "Epoch 13/20\n",
      "469/469 [==============================] - 29s 63ms/step - loss: 0.0964 - accuracy: 0.9712\n",
      "Epoch 14/20\n",
      "469/469 [==============================] - 29s 63ms/step - loss: 0.0934 - accuracy: 0.9721\n",
      "Epoch 15/20\n",
      "469/469 [==============================] - 29s 62ms/step - loss: 0.0879 - accuracy: 0.9731\n",
      "Epoch 16/20\n",
      "469/469 [==============================] - 29s 63ms/step - loss: 0.0854 - accuracy: 0.9744\n",
      "Epoch 17/20\n",
      "469/469 [==============================] - 29s 62ms/step - loss: 0.0809 - accuracy: 0.9752\n",
      "Epoch 18/20\n",
      "469/469 [==============================] - 30s 63ms/step - loss: 0.0775 - accuracy: 0.9763\n",
      "Epoch 19/20\n",
      "469/469 [==============================] - 29s 63ms/step - loss: 0.0764 - accuracy: 0.9768\n",
      "Epoch 20/20\n",
      "469/469 [==============================] - 29s 62ms/step - loss: 0.0712 - accuracy: 0.9778\n"
     ]
    },
    {
     "data": {
      "text/plain": [
       "<keras.callbacks.History at 0x7fa1c90d3450>"
      ]
     },
     "execution_count": 10,
     "metadata": {},
     "output_type": "execute_result"
    }
   ],
   "source": [
    "### train the network\n",
    "model.fit(x_train, y_train, epochs=20, batch_size=batch_size)"
   ]
  },
  {
   "cell_type": "code",
   "execution_count": 11,
   "metadata": {
    "id": "Z35fNbfayhGd"
   },
   "outputs": [],
   "source": [
    "_, acc = model.evaluate(x_test,\n",
    "                        y_test,\n",
    "                        batch_size=batch_size,\n",
    "                        verbose=0)"
   ]
  },
  {
   "cell_type": "code",
   "execution_count": 12,
   "metadata": {
    "colab": {
     "base_uri": "https://localhost:8080/"
    },
    "id": "tKOWkiJ1yqI9",
    "outputId": "3a91ac01-2d05-4392-a577-f315bbd7c33c"
   },
   "outputs": [
    {
     "name": "stdout",
     "output_type": "stream",
     "text": [
      "\n",
      "Test accuracy: 97.9%\n"
     ]
    }
   ],
   "source": [
    "print(\"\\nTest accuracy: %.1f%%\" % (100.0 * acc))"
   ]
  }
 ],
 "metadata": {
  "accelerator": "TPU",
  "colab": {
   "collapsed_sections": [],
   "name": "TS_Simple_RNN_for_MNIST.ipynb",
   "provenance": []
  },
  "kernelspec": {
   "display_name": "Python 3",
   "language": "python",
   "name": "python3"
  },
  "language_info": {
   "codemirror_mode": {
    "name": "ipython",
    "version": 3
   },
   "file_extension": ".py",
   "mimetype": "text/x-python",
   "name": "python",
   "nbconvert_exporter": "python",
   "pygments_lexer": "ipython3",
   "version": "3.8.8"
  },
  "toc": {
   "base_numbering": 1,
   "nav_menu": {},
   "number_sections": true,
   "sideBar": true,
   "skip_h1_title": false,
   "title_cell": "Table of Contents",
   "title_sidebar": "Contents",
   "toc_cell": false,
   "toc_position": {},
   "toc_section_display": true,
   "toc_window_display": false
  },
  "varInspector": {
   "cols": {
    "lenName": 16,
    "lenType": 16,
    "lenVar": 40
   },
   "kernels_config": {
    "python": {
     "delete_cmd_postfix": "",
     "delete_cmd_prefix": "del ",
     "library": "var_list.py",
     "varRefreshCmd": "print(var_dic_list())"
    },
    "r": {
     "delete_cmd_postfix": ") ",
     "delete_cmd_prefix": "rm(",
     "library": "var_list.r",
     "varRefreshCmd": "cat(var_dic_list()) "
    }
   },
   "types_to_exclude": [
    "module",
    "function",
    "builtin_function_or_method",
    "instance",
    "_Feature"
   ],
   "window_display": false
  }
 },
 "nbformat": 4,
 "nbformat_minor": 1
}
