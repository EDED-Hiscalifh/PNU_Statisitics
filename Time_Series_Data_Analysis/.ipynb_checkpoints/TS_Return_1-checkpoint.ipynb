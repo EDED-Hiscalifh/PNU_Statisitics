{
 "cells": [
  {
   "cell_type": "code",
   "execution_count": null,
   "metadata": {
    "id": "4fV4lrT7v2vh"
   },
   "outputs": [],
   "source": [
    "# https://financedata.github.io/posts/finance-data-reader-users-guide.html \n",
    "!pip install -U finance-datareader"
   ]
  },
  {
   "cell_type": "code",
   "execution_count": null,
   "metadata": {
    "id": "Oe7m2JRMwNtu"
   },
   "outputs": [],
   "source": [
    "import pandas as pd\n",
    "import matplotlib.pyplot as plt\n",
    "import FinanceDataReader as fdr\n",
    "fdr.__version__"
   ]
  },
  {
   "cell_type": "code",
   "execution_count": null,
   "metadata": {
    "id": "LrbgY-Lbw2Rv"
   },
   "outputs": [],
   "source": [
    "df = fdr.DataReader(\"005930\", \"2020\")\n",
    "df.tail(10) \n",
    "\n",
    "# 삼성전자: 005930\n",
    "# 현대차: 005380\n",
    "# 엔씨소프트: 036570\n",
    "# 셀트리온: 068270\n",
    "# 한국항공우주: 047810\n",
    "# LG에너지솔루션: 373220\n",
    "# 카카오: 035720\n",
    "# S-Oil: 010950\n",
    "# 고려아연: 010130\n",
    "# 롯데쇼핑: 023530\n",
    "# CJ제일제당: 097950\n",
    "# HMM: 011200\n",
    "# 두산에너빌리티: 034020\n",
    "# 삼성생명: 032830"
   ]
  },
  {
   "cell_type": "code",
   "execution_count": null,
   "metadata": {
    "id": "20PR2y3ds4xW"
   },
   "outputs": [],
   "source": [
    "df_cp = df[\"Close\"]\n",
    "#df[\"Return_iloc\"] = ( df_cp/df_cp.iloc[0] - 1 )\n",
    "df[\"Return_iloc\"] = ( df_cp/df_cp[0] - 1 )\n",
    "df"
   ]
  },
  {
   "cell_type": "code",
   "execution_count": null,
   "metadata": {
    "id": "3BBEnsrOu__n"
   },
   "outputs": [],
   "source": [
    "g = df[\"Return_iloc\"].plot(figsize=(10, 4))"
   ]
  },
  {
   "cell_type": "code",
   "execution_count": null,
   "metadata": {
    "id": "FvKA0DycxFsO"
   },
   "outputs": [],
   "source": [
    "df[\"Return_daily\"] = ( df_cp/df_cp.shift(1) - 1 )\n",
    "df"
   ]
  },
  {
   "cell_type": "code",
   "execution_count": null,
   "metadata": {
    "id": "pIXZEby00T8D"
   },
   "outputs": [],
   "source": [
    "g = df[\"Return_daily\"].plot(figsize=(10, 4))"
   ]
  },
  {
   "cell_type": "code",
   "execution_count": null,
   "metadata": {
    "id": "yCB4JnAt0hco"
   },
   "outputs": [],
   "source": [
    "df[\"Return_pct_change\"] = df_cp.pct_change()\n",
    "df"
   ]
  },
  {
   "cell_type": "code",
   "execution_count": null,
   "metadata": {
    "id": "TD28a-850189"
   },
   "outputs": [],
   "source": [
    "g = df[\"Return_pct_change\"].plot(figsize=(10, 4))"
   ]
  },
  {
   "cell_type": "code",
   "execution_count": null,
   "metadata": {
    "id": "Na_3Mx0u1Dv4"
   },
   "outputs": [],
   "source": [
    "# 누적수익률\n",
    "df[\"Return_daily_cum\"] = ( df[\"Return_daily\"] + 1 ).cumprod()\n",
    "g = df[\"Return_daily_cum\"].plot(figsize=(10, 4))\n",
    "g = plt.axhline(1, c=\"k\", lw=1) "
   ]
  },
  {
   "cell_type": "code",
   "execution_count": null,
   "metadata": {
    "id": "b9QNGExhxYtO"
   },
   "outputs": [],
   "source": [
    "df[\"MA_5\"] = df_cp.rolling(5).mean()\n",
    "df[\"MA_10\"] = df_cp.rolling(10).mean()\n",
    "df[\"MA_20\"] = df_cp.rolling(20).mean()"
   ]
  },
  {
   "cell_type": "code",
   "execution_count": null,
   "metadata": {
    "id": "BGJvTLYTxgrd"
   },
   "outputs": [],
   "source": [
    "g = df[[\"Close\", \"MA_5\", \"MA_10\", \"MA_20\"]].plot(figsize=(10, 4), title=\"Moving Average\")"
   ]
  },
  {
   "cell_type": "code",
   "execution_count": null,
   "metadata": {
    "id": "HEqhuIIJxrU_"
   },
   "outputs": [],
   "source": [
    "df[\"CMA_5\"] = df_cp.expanding(5).mean()"
   ]
  },
  {
   "cell_type": "code",
   "execution_count": null,
   "metadata": {
    "id": "bLcttryOxxR2"
   },
   "outputs": [],
   "source": [
    "g = df[[\"Close\", \"CMA_5\"]].plot(figsize=(10,4), title=\"Cumulative moving average\")"
   ]
  },
  {
   "cell_type": "code",
   "execution_count": null,
   "metadata": {
    "id": "dHCRVU8Bx00W"
   },
   "outputs": [],
   "source": [
    "df[\"EWM_short\"] = df_cp.ewm(span=12).mean()\n",
    "df[\"EWM_long\"] = df_cp.ewm(span=26).mean()"
   ]
  },
  {
   "cell_type": "code",
   "execution_count": null,
   "metadata": {
    "id": "9X0m5ijix8ZG"
   },
   "outputs": [],
   "source": [
    "g = df[[\"Close\", \"EWM_short\", \"EWM_long\"]].plot(figsize=(10, 4), title=\"Exponential Moving Average\")"
   ]
  },
  {
   "cell_type": "code",
   "execution_count": null,
   "metadata": {
    "id": "CAcfdXrQyKTO"
   },
   "outputs": [],
   "source": [
    "g = df[[\"Close\", \"MA_5\", \"CMA_5\", \"EWM_long\"]].plot(figsize=(10, 4))"
   ]
  },
  {
   "cell_type": "code",
   "execution_count": null,
   "metadata": {
    "id": "Q_jvPRB2yb_3"
   },
   "outputs": [],
   "source": [
    "df_cp"
   ]
  },
  {
   "cell_type": "code",
   "execution_count": null,
   "metadata": {
    "id": "BUp2SLWly8NP"
   },
   "outputs": [],
   "source": [
    "df_cp.asfreq(\"D\")"
   ]
  },
  {
   "cell_type": "code",
   "execution_count": null,
   "metadata": {
    "id": "dp9kBUNWy-xg"
   },
   "outputs": [],
   "source": [
    "df_cp.asfreq(\"D\").fillna(method=\"ffill\")"
   ]
  },
  {
   "cell_type": "code",
   "execution_count": null,
   "metadata": {
    "id": "whEtA4aEzC-n"
   },
   "outputs": [],
   "source": [
    "df_cp.asfreq(\"D\").interpolate()"
   ]
  },
  {
   "cell_type": "code",
   "execution_count": null,
   "metadata": {
    "id": "pHBUbSIL8pvj"
   },
   "outputs": [],
   "source": [
    "df_cp.asfreq(\"5D\")"
   ]
  },
  {
   "cell_type": "code",
   "execution_count": null,
   "metadata": {
    "id": "gzldpD3f9C9J"
   },
   "outputs": [],
   "source": [
    "df_cp.asfreq(\"M\")"
   ]
  },
  {
   "cell_type": "code",
   "execution_count": null,
   "metadata": {
    "id": "9xdax9fjzHhv"
   },
   "outputs": [],
   "source": [
    "df_cp.asfreq(\"Q\")"
   ]
  },
  {
   "cell_type": "code",
   "execution_count": null,
   "metadata": {
    "id": "0IdgZt6L7IJf"
   },
   "outputs": [],
   "source": [
    "df_cp.asfreq(\"Y\")"
   ]
  },
  {
   "cell_type": "code",
   "execution_count": null,
   "metadata": {
    "id": "2vgVe4ke7UVn"
   },
   "outputs": [],
   "source": [
    "df_cp.resample(\"D\").mean()"
   ]
  },
  {
   "cell_type": "code",
   "execution_count": null,
   "metadata": {
    "id": "yeD-XG5f7duz"
   },
   "outputs": [],
   "source": [
    "df_cp.resample(\"M\").mean()"
   ]
  },
  {
   "cell_type": "code",
   "execution_count": null,
   "metadata": {
    "id": "89VUI9Gp7nA6"
   },
   "outputs": [],
   "source": [
    "g = df_cp.resample(\"M\").mean().plot()"
   ]
  },
  {
   "cell_type": "code",
   "execution_count": null,
   "metadata": {
    "id": "0sDAzUmE7t7K"
   },
   "outputs": [],
   "source": [
    "g = df_cp.resample(\"Q\").mean().plot()"
   ]
  }
 ],
 "metadata": {
  "accelerator": "GPU",
  "colab": {
   "collapsed_sections": [],
   "name": "TS_Return_1.ipynb",
   "provenance": []
  },
  "kernelspec": {
   "display_name": "Python 3",
   "language": "python",
   "name": "python3"
  },
  "language_info": {
   "codemirror_mode": {
    "name": "ipython",
    "version": 3
   },
   "file_extension": ".py",
   "mimetype": "text/x-python",
   "name": "python",
   "nbconvert_exporter": "python",
   "pygments_lexer": "ipython3",
   "version": "3.8.8"
  },
  "toc": {
   "base_numbering": 1,
   "nav_menu": {},
   "number_sections": true,
   "sideBar": true,
   "skip_h1_title": false,
   "title_cell": "Table of Contents",
   "title_sidebar": "Contents",
   "toc_cell": false,
   "toc_position": {},
   "toc_section_display": true,
   "toc_window_display": false
  },
  "varInspector": {
   "cols": {
    "lenName": 16,
    "lenType": 16,
    "lenVar": 40
   },
   "kernels_config": {
    "python": {
     "delete_cmd_postfix": "",
     "delete_cmd_prefix": "del ",
     "library": "var_list.py",
     "varRefreshCmd": "print(var_dic_list())"
    },
    "r": {
     "delete_cmd_postfix": ") ",
     "delete_cmd_prefix": "rm(",
     "library": "var_list.r",
     "varRefreshCmd": "cat(var_dic_list()) "
    }
   },
   "types_to_exclude": [
    "module",
    "function",
    "builtin_function_or_method",
    "instance",
    "_Feature"
   ],
   "window_display": false
  }
 },
 "nbformat": 4,
 "nbformat_minor": 1
}
