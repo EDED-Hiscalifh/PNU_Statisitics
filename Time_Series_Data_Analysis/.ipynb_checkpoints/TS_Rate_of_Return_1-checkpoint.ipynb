{
 "cells": [
  {
   "cell_type": "code",
   "execution_count": null,
   "metadata": {
    "id": "InrF9u9VmyOQ"
   },
   "outputs": [],
   "source": [
    "def get_font_family():\n",
    "    import platform\n",
    "    system_name = platform.system()\n",
    "    \n",
    "    if system_name == \"Darwin\" :\n",
    "        font_family = \"AppleGothic\"\n",
    "    elif system_name == \"Windows\":\n",
    "        font_family = \"Malgun Gothic\"\n",
    "    else:\n",
    "        !apt-get install fonts-nanum -qq  > /dev/null\n",
    "        !fc-cache -fv\n",
    "\n",
    "        import matplotlib as mpl\n",
    "        mpl.font_manager._rebuild()\n",
    "        findfont = mpl.font_manager.fontManager.findfont\n",
    "        mpl.font_manager.findfont = findfont\n",
    "        mpl.backends.backend_agg.findfont = findfont\n",
    "        \n",
    "        font_family = \"NanumBarunGothic\"\n",
    "    return font_family"
   ]
  },
  {
   "cell_type": "code",
   "execution_count": null,
   "metadata": {
    "id": "K7fX7diwm-9F"
   },
   "outputs": [],
   "source": [
    "get_font_family()"
   ]
  },
  {
   "cell_type": "code",
   "execution_count": null,
   "metadata": {
    "id": "4fV4lrT7v2vh"
   },
   "outputs": [],
   "source": [
    "# https://financedata.github.io/posts/finance-data-reader-users-guide.html \n",
    "!pip install -U finance-datareader"
   ]
  },
  {
   "cell_type": "code",
   "execution_count": null,
   "metadata": {
    "id": "Oe7m2JRMwNtu"
   },
   "outputs": [],
   "source": [
    "import pandas as pd\n",
    "import FinanceDataReader as fdr\n",
    "fdr.__version__"
   ]
  },
  {
   "cell_type": "code",
   "execution_count": null,
   "metadata": {
    "id": "LrbgY-Lbw2Rv"
   },
   "outputs": [],
   "source": [
    "stocks_dict = {\n",
    "    '삼성전자': '005930',\n",
    "    '현대차': '005380',\n",
    "    '엔씨소프트': '036570',\n",
    "    '셀트리온': '068270',\n",
    "    '한국항공우주': '047810',\n",
    "    'LG에너지솔루션': '373220',\n",
    "    '카카오': '035720',\n",
    "    'S-Oil': '010950',\n",
    "    '고려아연': '010130',\n",
    "    '롯데쇼핑': '023530',\n",
    "    'CJ제일제당':'097950',\n",
    "    'HMM': '011200',\n",
    "    '두산에너빌리티': '034020',\n",
    "    '삼성생명': '032830'\n",
    "}"
   ]
  },
  {
   "cell_type": "code",
   "execution_count": null,
   "metadata": {
    "id": "FvKA0DycxFsO"
   },
   "outputs": [],
   "source": [
    "type(stocks_dict)"
   ]
  },
  {
   "cell_type": "code",
   "execution_count": null,
   "metadata": {
    "id": "b9QNGExhxYtO"
   },
   "outputs": [],
   "source": [
    "stocks_dict.keys()"
   ]
  },
  {
   "cell_type": "code",
   "execution_count": null,
   "metadata": {
    "id": "BGJvTLYTxgrd"
   },
   "outputs": [],
   "source": [
    "stocks_dict.values()"
   ]
  },
  {
   "cell_type": "code",
   "execution_count": null,
   "metadata": {
    "id": "HEqhuIIJxrU_"
   },
   "outputs": [],
   "source": [
    "stocks_list = []\n",
    "for stock_code in stocks_dict.values():\n",
    "    cp = fdr.DataReader(stock_code, '2020')['Close']\n",
    "    stocks_list.append(cp)"
   ]
  },
  {
   "cell_type": "code",
   "execution_count": null,
   "metadata": {
    "id": "bLcttryOxxR2"
   },
   "outputs": [],
   "source": [
    "cp"
   ]
  },
  {
   "cell_type": "code",
   "execution_count": null,
   "metadata": {
    "id": "dHCRVU8Bx00W"
   },
   "outputs": [],
   "source": [
    "len(stocks_list)"
   ]
  },
  {
   "cell_type": "code",
   "execution_count": null,
   "metadata": {
    "id": "9X0m5ijix8ZG"
   },
   "outputs": [],
   "source": [
    "df = pd.concat(stocks_list, axis = 1)\n",
    "df.columns = stocks_dict.keys()\n",
    "df"
   ]
  },
  {
   "cell_type": "code",
   "execution_count": null,
   "metadata": {
    "id": "CAcfdXrQyKTO"
   },
   "outputs": [],
   "source": [
    "# https://matplotlib.org/3.5.0/api/_as_gen/matplotlib.pyplot.rc.html\n",
    "import matplotlib.pyplot as plt\n",
    "font_family = get_font_family()\n",
    "plt.rc('font', family=font_family)\n",
    "plt.rc('axes', unicode_minus=False)\n",
    "plt.style.use('ggplot')"
   ]
  },
  {
   "cell_type": "code",
   "execution_count": null,
   "metadata": {
    "id": "Q_jvPRB2yb_3"
   },
   "outputs": [],
   "source": [
    "g = df.plot(figsize=(20, 10))"
   ]
  },
  {
   "cell_type": "code",
   "execution_count": null,
   "metadata": {
    "id": "BUp2SLWly8NP"
   },
   "outputs": [],
   "source": [
    "g = df[['엔씨소프트', '현대차']].plot(secondary_y='현대차')"
   ]
  },
  {
   "cell_type": "code",
   "execution_count": null,
   "metadata": {
    "id": "dp9kBUNWy-xg"
   },
   "outputs": [],
   "source": [
    "import numpy as np\n",
    "df2 = df[['엔씨소프트', '현대차']]\n",
    "log_ret = np.log(df2).diff(1).dropna()\n",
    "log_ret.tail(10)"
   ]
  },
  {
   "cell_type": "code",
   "execution_count": null,
   "metadata": {
    "id": "whEtA4aEzC-n"
   },
   "outputs": [],
   "source": [
    "g = log_ret.plot(figsize=(20, 10))"
   ]
  },
  {
   "cell_type": "code",
   "execution_count": null,
   "metadata": {
    "id": "9xdax9fjzHhv"
   },
   "outputs": [],
   "source": [
    "fig, axes = plt.subplots(1, 2, figsize=(20, 10))\n",
    "g = df[['엔씨소프트', '현대차']].plot(secondary_y='현대차', ax=axes[0], title='일별 종가 시계열')\n",
    "g = log_ret.plot(ax=axes[1], title = \"일별 로그 주가수익률\")"
   ]
  },
  {
   "cell_type": "code",
   "execution_count": null,
   "metadata": {
    "id": "sidHdJwIzKqn"
   },
   "outputs": [],
   "source": [
    "h = log_ret.hist(figsize=(10, 4))"
   ]
  },
  {
   "cell_type": "code",
   "execution_count": null,
   "metadata": {
    "id": "bhpOFqSWz04_"
   },
   "outputs": [],
   "source": [
    "df2.describe()"
   ]
  },
  {
   "cell_type": "code",
   "execution_count": null,
   "metadata": {
    "id": "wQopr9Y90mEv"
   },
   "outputs": [],
   "source": [
    "log_ret_all = np.log(df).diff(1).dropna()\n",
    "log_ret_all.tail()"
   ]
  },
  {
   "cell_type": "code",
   "execution_count": null,
   "metadata": {
    "id": "rRICxv5v061X"
   },
   "outputs": [],
   "source": [
    "log_ret_all.skew()"
   ]
  },
  {
   "cell_type": "code",
   "execution_count": null,
   "metadata": {
    "id": "Fq4Duyz01Y_n"
   },
   "outputs": [],
   "source": [
    "log_ret_all.kurt()"
   ]
  }
 ],
 "metadata": {
  "accelerator": "GPU",
  "colab": {
   "collapsed_sections": [],
   "name": "TS_Rate_of_Return_1.ipynb",
   "provenance": []
  },
  "kernelspec": {
   "display_name": "Python 3",
   "language": "python",
   "name": "python3"
  },
  "language_info": {
   "codemirror_mode": {
    "name": "ipython",
    "version": 3
   },
   "file_extension": ".py",
   "mimetype": "text/x-python",
   "name": "python",
   "nbconvert_exporter": "python",
   "pygments_lexer": "ipython3",
   "version": "3.8.8"
  },
  "toc": {
   "base_numbering": 1,
   "nav_menu": {},
   "number_sections": true,
   "sideBar": true,
   "skip_h1_title": false,
   "title_cell": "Table of Contents",
   "title_sidebar": "Contents",
   "toc_cell": false,
   "toc_position": {},
   "toc_section_display": true,
   "toc_window_display": false
  },
  "varInspector": {
   "cols": {
    "lenName": 16,
    "lenType": 16,
    "lenVar": 40
   },
   "kernels_config": {
    "python": {
     "delete_cmd_postfix": "",
     "delete_cmd_prefix": "del ",
     "library": "var_list.py",
     "varRefreshCmd": "print(var_dic_list())"
    },
    "r": {
     "delete_cmd_postfix": ") ",
     "delete_cmd_prefix": "rm(",
     "library": "var_list.r",
     "varRefreshCmd": "cat(var_dic_list()) "
    }
   },
   "types_to_exclude": [
    "module",
    "function",
    "builtin_function_or_method",
    "instance",
    "_Feature"
   ],
   "window_display": false
  }
 },
 "nbformat": 4,
 "nbformat_minor": 1
}
