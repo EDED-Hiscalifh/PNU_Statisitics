{
 "cells": [
  {
   "cell_type": "code",
   "execution_count": null,
   "metadata": {
    "id": "4fV4lrT7v2vh"
   },
   "outputs": [],
   "source": [
    "# https://financedata.github.io/posts/finance-data-reader-users-guide.html \n",
    "!pip install -U finance-datareader"
   ]
  },
  {
   "cell_type": "code",
   "execution_count": null,
   "metadata": {
    "id": "Oe7m2JRMwNtu"
   },
   "outputs": [],
   "source": [
    "import pandas as pd\n",
    "import numpy as np\n",
    "import matplotlib.pyplot as plt\n",
    "import FinanceDataReader as fdr\n",
    "fdr.__version__"
   ]
  },
  {
   "cell_type": "code",
   "execution_count": null,
   "metadata": {
    "id": "ViVcdgXO05PJ"
   },
   "outputs": [],
   "source": [
    "# Pandas: Bollinger Bands(Example)\n",
    "# https://pandas.pydata.org/pandas-docs/stable/user_guide/visualization.html#plotting-directly-with-matplotlib\n",
    "\n",
    "np.random.seed(1)\n",
    "price = pd.Series(\n",
    "    np.random.randn(150).cumsum(),\n",
    "    index=pd.date_range(\"2000-1-1\", periods=150, freq=\"B\"),\n",
    ")\n",
    "ma_20 = price.rolling(20).mean()\n",
    "ma_20_std = price.rolling(20).std()\n",
    "plt.figure(figsize=(10, 4))\n",
    "plt.plot(price.index, price, \"k\")\n",
    "plt.plot(ma_20.index, ma_20, \"b\")\n",
    "plt.fill_between(ma_20_std.index, ma_20 - 2 * ma_20_std, ma_20 + 2 * ma_20_std, color=\"b\", alpha=0.2)"
   ]
  },
  {
   "cell_type": "code",
   "execution_count": null,
   "metadata": {
    "id": "LrbgY-Lbw2Rv"
   },
   "outputs": [],
   "source": [
    "df = fdr.DataReader(\"005930\", \"2020\")\n",
    "df.tail(10)  \n",
    "\n",
    "# 삼성전자: 005930\n",
    "# 현대차: 005380\n",
    "# 엔씨소프트: 036570\n",
    "# 셀트리온: 068270\n",
    "# 한국항공우주: 047810\n",
    "# LG에너지솔루션: 373220\n",
    "# 카카오: 035720\n",
    "# S-Oil: 010950\n",
    "# 고려아연: 010130\n",
    "# 롯데쇼핑: 023530\n",
    "# CJ제일제당: 097950\n",
    "# HMM: 011200\n",
    "# 두산에너빌리티: 034020\n",
    "# 삼성생명: 032830"
   ]
  },
  {
   "cell_type": "code",
   "execution_count": null,
   "metadata": {
    "id": "FvKA0DycxFsO"
   },
   "outputs": [],
   "source": [
    "df.shape"
   ]
  },
  {
   "cell_type": "code",
   "execution_count": null,
   "metadata": {
    "id": "b9QNGExhxYtO"
   },
   "outputs": [],
   "source": [
    "df[\"MA_20\"] = df[\"Close\"].rolling(20).mean()"
   ]
  },
  {
   "cell_type": "code",
   "execution_count": null,
   "metadata": {
    "id": "BGJvTLYTxgrd"
   },
   "outputs": [],
   "source": [
    "df[\"Close\"].describe()"
   ]
  },
  {
   "cell_type": "code",
   "execution_count": null,
   "metadata": {
    "id": "HEqhuIIJxrU_"
   },
   "outputs": [],
   "source": [
    "df[\"MA_20_STD\"] = df[\"Close\"].rolling(20).std()\n",
    "df[\"UpperBand\"] = df[\"MA_20\"] + (df[\"MA_20_STD\"] * 2)\n",
    "df[\"LowerBand\"] = df[\"MA_20\"] - (df[\"MA_20_STD\"] * 2)\n",
    "df.head(30) "
   ]
  },
  {
   "cell_type": "code",
   "execution_count": null,
   "metadata": {
    "id": "bLcttryOxxR2"
   },
   "outputs": [],
   "source": [
    "df[[\"UpperBand\", \"Close\", \"MA_20\", \"LowerBand\"]].plot(figsize=(10,4))\n",
    "g = plt.fill_between(df.index, df.LowerBand, df.UpperBand, alpha=0.2)"
   ]
  },
  {
   "cell_type": "code",
   "execution_count": null,
   "metadata": {
    "id": "dHCRVU8Bx00W"
   },
   "outputs": [],
   "source": [
    "plt.figure(figsize=(10,4))\n",
    "plt.plot(df.index, df.UpperBand, \"r--\")\n",
    "plt.plot(df.index, df.Close, \"k\")\n",
    "plt.plot(df.index, df.LowerBand, \"b--\")\n",
    "plt.fill_between(df.index, df.UpperBand, df.LowerBand, alpha=0.2)"
   ]
  },
  {
   "cell_type": "code",
   "execution_count": null,
   "metadata": {
    "id": "9X0m5ijix8ZG"
   },
   "outputs": [],
   "source": [
    "df[\"PercentBand\"] = (df[\"Close\"] - df[\"LowerBand\"]) / (df[\"UpperBand\"] - df[\"LowerBand\"])\n",
    "\n",
    "plt.figure(figsize=(10, 4))\n",
    "plt.bar(df.index, df[\"PercentBand\"])\n",
    "plt.axhline(1, c=\"r\", lw=1)\n",
    "plt.axhline(0.5, c=\"b\", lw=1)\n",
    "plt.axhline(0, c=\"k\", lw=1)"
   ]
  },
  {
   "cell_type": "code",
   "execution_count": null,
   "metadata": {
    "id": "CAcfdXrQyKTO"
   },
   "outputs": [],
   "source": [
    "df[\"BandWidth\"] = (df[\"UpperBand\"] - df[\"LowerBand\"]) / df[\"MA_20\"]\n",
    "\n",
    "g = df[\"BandWidth\"].plot(figsize=(10, 4), grid=True)"
   ]
  },
  {
   "cell_type": "code",
   "execution_count": null,
   "metadata": {
    "id": "Q_jvPRB2yb_3"
   },
   "outputs": [],
   "source": [
    "df.tail(10)"
   ]
  },
  {
   "cell_type": "code",
   "execution_count": null,
   "metadata": {
    "id": "BUp2SLWly8NP"
   },
   "outputs": [],
   "source": [
    "def plot_Bollinger_Bands(df, n=20, k=2):\n",
    "    plt.style.use(\"seaborn-whitegrid\")\n",
    "    df[\"MA_20\"] = df[\"Close\"].rolling(20).mean()\n",
    "    df[\"MA_20_STD\"] = df[\"Close\"].rolling(20).std()\n",
    "    df[\"UpperBand\"] = df[\"MA_20\"] + (df[\"MA_20_STD\"] * 2)\n",
    "    df[\"LowerBand\"] = df[\"MA_20\"] - (df[\"MA_20_STD\"] * 2)\n",
    "    df = df[19:].copy()\n",
    "    \n",
    "    plt.figure(figsize=(10, 4))\n",
    "    plt.plot(df.index, df.UpperBand, \"r--\", label=\"UpperBand\")\n",
    "    plt.plot(df.index, df.Close, \"k\")\n",
    "    plt.plot(df.index, df.LowerBand, \"b--\", label=\"LowerBand\")\n",
    "    plt.plot(df.index, df.MA_20)\n",
    "    plt.fill_between(df.index, df.UpperBand, df.LowerBand, alpha=0.2)\n",
    "    plt.legend(loc=\"best\")\n",
    "    plt.title(\"Bollinger Bands\")"
   ]
  },
  {
   "cell_type": "code",
   "execution_count": null,
   "metadata": {
    "id": "dp9kBUNWy-xg"
   },
   "outputs": [],
   "source": [
    "plot_Bollinger_Bands(df)"
   ]
  },
  {
   "cell_type": "code",
   "execution_count": null,
   "metadata": {
    "id": "whEtA4aEzC-n"
   },
   "outputs": [],
   "source": [
    "AMD = fdr.DataReader(\"AMD\", \"2020\")\n",
    "plot_Bollinger_Bands(AMD)"
   ]
  },
  {
   "cell_type": "code",
   "execution_count": null,
   "metadata": {
    "id": "pHBUbSIL8pvj"
   },
   "outputs": [],
   "source": [
    "TESLA = fdr.DataReader(\"TSLA\", \"2020\")\n",
    "plot_Bollinger_Bands(TESLA)"
   ]
  },
  {
   "cell_type": "code",
   "execution_count": null,
   "metadata": {
    "id": "gzldpD3f9C9J"
   },
   "outputs": [],
   "source": [
    "Boeing = fdr.DataReader(\"BA\", \"2020\")\n",
    "plot_Bollinger_Bands(Boeing)"
   ]
  },
  {
   "cell_type": "code",
   "execution_count": null,
   "metadata": {
    "id": "9xdax9fjzHhv"
   },
   "outputs": [],
   "source": [
    "amazon = fdr.DataReader(\"AMZN\", \"2020\")\n",
    "plot_Bollinger_Bands(amazon)"
   ]
  }
 ],
 "metadata": {
  "accelerator": "GPU",
  "colab": {
   "collapsed_sections": [],
   "name": "TS_Bollinger_Bands_1.ipynb",
   "provenance": []
  },
  "kernelspec": {
   "display_name": "Python 3",
   "language": "python",
   "name": "python3"
  },
  "language_info": {
   "codemirror_mode": {
    "name": "ipython",
    "version": 3
   },
   "file_extension": ".py",
   "mimetype": "text/x-python",
   "name": "python",
   "nbconvert_exporter": "python",
   "pygments_lexer": "ipython3",
   "version": "3.8.8"
  },
  "toc": {
   "base_numbering": 1,
   "nav_menu": {},
   "number_sections": true,
   "sideBar": true,
   "skip_h1_title": false,
   "title_cell": "Table of Contents",
   "title_sidebar": "Contents",
   "toc_cell": false,
   "toc_position": {},
   "toc_section_display": true,
   "toc_window_display": false
  },
  "varInspector": {
   "cols": {
    "lenName": 16,
    "lenType": 16,
    "lenVar": 40
   },
   "kernels_config": {
    "python": {
     "delete_cmd_postfix": "",
     "delete_cmd_prefix": "del ",
     "library": "var_list.py",
     "varRefreshCmd": "print(var_dic_list())"
    },
    "r": {
     "delete_cmd_postfix": ") ",
     "delete_cmd_prefix": "rm(",
     "library": "var_list.r",
     "varRefreshCmd": "cat(var_dic_list()) "
    }
   },
   "types_to_exclude": [
    "module",
    "function",
    "builtin_function_or_method",
    "instance",
    "_Feature"
   ],
   "window_display": false
  }
 },
 "nbformat": 4,
 "nbformat_minor": 1
}
