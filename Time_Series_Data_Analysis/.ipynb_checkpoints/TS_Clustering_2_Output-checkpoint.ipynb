{
 "cells": [
  {
   "cell_type": "code",
   "execution_count": 1,
   "metadata": {
    "id": "ONq4JsYruoZy"
   },
   "outputs": [],
   "source": [
    "import numpy as np\n",
    "import pandas as pd\n",
    "import os, time, re\n",
    "import pickle, gzip, datetime\n",
    "from os import listdir, walk\n",
    "from os.path import isfile, join"
   ]
  },
  {
   "cell_type": "code",
   "execution_count": 2,
   "metadata": {
    "id": "i6uVnvsGvKFD"
   },
   "outputs": [],
   "source": [
    "import matplotlib.pyplot as plt\n",
    "import seaborn as sns\n",
    "color = sns.color_palette()\n",
    "import matplotlib as mpl\n",
    "from mpl_toolkits.axes_grid1 import Grid"
   ]
  },
  {
   "cell_type": "code",
   "execution_count": 3,
   "metadata": {
    "id": "Qx91zJMCvTbJ"
   },
   "outputs": [],
   "source": [
    "%matplotlib inline"
   ]
  },
  {
   "cell_type": "code",
   "execution_count": 4,
   "metadata": {
    "id": "JoP8EE6rvWN-"
   },
   "outputs": [],
   "source": [
    "from sklearn import preprocessing as pp\n",
    "from sklearn.model_selection import train_test_split \n",
    "from sklearn.model_selection import StratifiedKFold \n",
    "from sklearn.metrics import log_loss, accuracy_score\n",
    "from sklearn.metrics import precision_recall_curve, average_precision_score\n",
    "from sklearn.metrics import roc_curve, auc, roc_auc_score, mean_squared_error\n",
    "from tensorflow.keras.utils import to_categorical\n",
    "from sklearn.metrics import adjusted_rand_score\n",
    "import random"
   ]
  },
  {
   "cell_type": "code",
   "execution_count": 5,
   "metadata": {
    "colab": {
     "base_uri": "https://localhost:8080/"
    },
    "id": "2PuAY6ZwwSMx",
    "outputId": "037a27ff-6989-47e2-b279-49f743931dfc"
   },
   "outputs": [
    {
     "name": "stdout",
     "output_type": "stream",
     "text": [
      "Looking in indexes: https://pypi.org/simple, https://us-python.pkg.dev/colab-wheels/public/simple/\n",
      "Requirement already satisfied: kshape in /usr/local/lib/python3.7/dist-packages (1.0.1)\n",
      "Requirement already satisfied: numpy in /usr/local/lib/python3.7/dist-packages (from kshape) (1.21.6)\n"
     ]
    }
   ],
   "source": [
    "!pip install kshape"
   ]
  },
  {
   "cell_type": "code",
   "execution_count": 6,
   "metadata": {
    "colab": {
     "base_uri": "https://localhost:8080/"
    },
    "id": "wxSj_gcmwidi",
    "outputId": "8b589612-5b21-48f0-ffa7-79c0196e6708"
   },
   "outputs": [
    {
     "name": "stdout",
     "output_type": "stream",
     "text": [
      "Looking in indexes: https://pypi.org/simple, https://us-python.pkg.dev/colab-wheels/public/simple/\n",
      "Requirement already satisfied: tslearn in /usr/local/lib/python3.7/dist-packages (0.5.2)\n",
      "Requirement already satisfied: joblib in /usr/local/lib/python3.7/dist-packages (from tslearn) (1.1.0)\n",
      "Requirement already satisfied: numpy in /usr/local/lib/python3.7/dist-packages (from tslearn) (1.21.6)\n",
      "Requirement already satisfied: scipy in /usr/local/lib/python3.7/dist-packages (from tslearn) (1.4.1)\n",
      "Requirement already satisfied: numba in /usr/local/lib/python3.7/dist-packages (from tslearn) (0.51.2)\n",
      "Requirement already satisfied: scikit-learn in /usr/local/lib/python3.7/dist-packages (from tslearn) (1.0.2)\n",
      "Requirement already satisfied: Cython in /usr/local/lib/python3.7/dist-packages (from tslearn) (0.29.30)\n",
      "Requirement already satisfied: setuptools in /usr/local/lib/python3.7/dist-packages (from numba->tslearn) (57.4.0)\n",
      "Requirement already satisfied: llvmlite<0.35,>=0.34.0.dev0 in /usr/local/lib/python3.7/dist-packages (from numba->tslearn) (0.34.0)\n",
      "Requirement already satisfied: threadpoolctl>=2.0.0 in /usr/local/lib/python3.7/dist-packages (from scikit-learn->tslearn) (3.1.0)\n"
     ]
    }
   ],
   "source": [
    "!pip install tslearn"
   ]
  },
  {
   "cell_type": "code",
   "execution_count": 7,
   "metadata": {
    "colab": {
     "base_uri": "https://localhost:8080/"
    },
    "id": "1C-9-khsxo4X",
    "outputId": "90eeff14-da6b-4bb1-cd5e-ca773c37cc1f"
   },
   "outputs": [
    {
     "name": "stdout",
     "output_type": "stream",
     "text": [
      "Looking in indexes: https://pypi.org/simple, https://us-python.pkg.dev/colab-wheels/public/simple/\n",
      "Requirement already satisfied: hdbscan in /usr/local/lib/python3.7/dist-packages (0.8.28)\n",
      "Requirement already satisfied: cython>=0.27 in /usr/local/lib/python3.7/dist-packages (from hdbscan) (0.29.30)\n",
      "Requirement already satisfied: scikit-learn>=0.20 in /usr/local/lib/python3.7/dist-packages (from hdbscan) (1.0.2)\n",
      "Requirement already satisfied: scipy>=1.0 in /usr/local/lib/python3.7/dist-packages (from hdbscan) (1.4.1)\n",
      "Requirement already satisfied: joblib>=1.0 in /usr/local/lib/python3.7/dist-packages (from hdbscan) (1.1.0)\n",
      "Requirement already satisfied: numpy>=1.20 in /usr/local/lib/python3.7/dist-packages (from hdbscan) (1.21.6)\n",
      "Requirement already satisfied: threadpoolctl>=2.0.0 in /usr/local/lib/python3.7/dist-packages (from scikit-learn>=0.20->hdbscan) (3.1.0)\n"
     ]
    }
   ],
   "source": [
    "!pip install hdbscan"
   ]
  },
  {
   "cell_type": "code",
   "execution_count": 8,
   "metadata": {
    "id": "ljdXqfvZvaGW"
   },
   "outputs": [],
   "source": [
    "from kshape.core import kshape, zscore\n",
    "import tslearn\n",
    "from tslearn.utils import to_time_series_dataset\n",
    "from tslearn.clustering import KShape\n",
    "from tslearn.preprocessing import TimeSeriesScalerMeanVariance\n",
    "from tslearn.clustering import TimeSeriesKMeans\n",
    "import hdbscan"
   ]
  },
  {
   "cell_type": "code",
   "execution_count": 9,
   "metadata": {
    "id": "BYKcjS1iwEsN"
   },
   "outputs": [],
   "source": [
    "import tensorflow as tf\n",
    "import keras\n",
    "from keras import backend as K\n",
    "from keras.models import Sequential, Model\n",
    "from keras.layers import Activation, Dense, Dropout, Flatten, Conv2D, MaxPool2D\n",
    "from keras.layers import LeakyReLU, Reshape, UpSampling2D, Conv2DTranspose\n",
    "from keras.layers import BatchNormalization, Input, Lambda\n",
    "from keras.layers import Embedding, Flatten, dot\n",
    "from keras import regularizers\n",
    "from keras.losses import mse, binary_crossentropy\n",
    "from IPython.display import SVG\n",
    "from keras.utils.vis_utils import model_to_dot\n",
    "from tensorflow.keras.optimizers import Adam, RMSprop"
   ]
  },
  {
   "cell_type": "code",
   "execution_count": 10,
   "metadata": {
    "colab": {
     "base_uri": "https://localhost:8080/"
    },
    "id": "Xb8pRn1632_o",
    "outputId": "49761762-aa30-4295-fd4b-3671a69fc0c1"
   },
   "outputs": [
    {
     "name": "stdout",
     "output_type": "stream",
     "text": [
      "replace ECG5000.txt? [y]es, [n]o, [A]ll, [N]one, [r]ename: n\n",
      "replace ECG5000_TEST.arff? [y]es, [n]o, [A]ll, [N]one, [r]ename: n\n",
      "replace ECG5000_TEST.txt? [y]es, [n]o, [A]ll, [N]one, [r]ename: n\n",
      "replace ECG5000_TRAIN.arff? [y]es, [n]o, [A]ll, [N]one, [r]ename: \n",
      "error:  invalid response [{ENTER}]\n",
      "replace ECG5000_TRAIN.arff? [y]es, [n]o, [A]ll, [N]one, [r]ename: n\n",
      "replace ECG5000_TRAIN.txt? [y]es, [n]o, [A]ll, [N]one, [r]ename: \n",
      "error:  invalid response [{ENTER}]\n",
      "replace ECG5000_TRAIN.txt? [y]es, [n]o, [A]ll, [N]one, [r]ename: n\n",
      "replace ECG5000_TEST.ts? [y]es, [n]o, [A]ll, [N]one, [r]ename: \n",
      "error:  invalid response [{ENTER}]\n",
      "replace ECG5000_TEST.ts? [y]es, [n]o, [A]ll, [N]one, [r]ename: n\n",
      "replace ECG5000_TRAIN.ts? [y]es, [n]o, [A]ll, [N]one, [r]ename: \n",
      "error:  invalid response [{ENTER}]\n",
      "replace ECG5000_TRAIN.ts? [y]es, [n]o, [A]ll, [N]one, [r]ename: n\n"
     ]
    }
   ],
   "source": [
    "## 로딩한 압축파일 풀기\n",
    "!unzip -qq \"/content/ECG5000.zip\""
   ]
  },
  {
   "cell_type": "code",
   "execution_count": 11,
   "metadata": {
    "id": "44P0zLiL0MIO"
   },
   "outputs": [],
   "source": [
    "## 데이터 로드\n",
    "# ECG5000 데이터셋에 대한 설명: https://timeseriesclassification.com/description.php?Dataset=ECG5000\n",
    "data_train = np.loadtxt(\"ECG5000_TRAIN.txt\")\n",
    "data_test = np.loadtxt(\"ECG5000_TEST.txt\")"
   ]
  },
  {
   "cell_type": "code",
   "execution_count": 12,
   "metadata": {
    "colab": {
     "base_uri": "https://localhost:8080/"
    },
    "id": "0iFVI_Po7lZM",
    "outputId": "99b1d34d-83eb-4137-b1ce-0a4564cadde2"
   },
   "outputs": [
    {
     "name": "stdout",
     "output_type": "stream",
     "text": [
      "Number of time series: 500\n",
      "Number of unique classes: 5\n",
      "Time series length: 140\n",
      "Number of time series: 4500\n",
      "Number of unique classes: 5\n",
      "Time series length: 140\n"
     ]
    }
   ],
   "source": [
    "## 요약통계량 확인하기\n",
    "print(\"Number of time series:\", len(data_train))\n",
    "print(\"Number of unique classes:\", len(np.unique(data_train[:,0])))\n",
    "print(\"Time series length:\", len(data_train[0,1:]))\n",
    "\n",
    "print(\"Number of time series:\", len(data_test))\n",
    "print(\"Number of unique classes:\", len(np.unique(data_test[:,0])))\n",
    "print(\"Time series length:\", len(data_test[0,1:]))"
   ]
  },
  {
   "cell_type": "code",
   "execution_count": 13,
   "metadata": {
    "colab": {
     "base_uri": "https://localhost:8080/"
    },
    "id": "ImfYvFl37qVz",
    "outputId": "ebd90b23-6c48-4a4e-b9ee-085f632e884a"
   },
   "outputs": [
    {
     "name": "stdout",
     "output_type": "stream",
     "text": [
      "Number of time series in class 1.0: 292\n",
      "Number of time series in class 2.0: 177\n",
      "Number of time series in class 3.0: 10\n",
      "Number of time series in class 4.0: 19\n",
      "Number of time series in class 5.0: 2\n"
     ]
    }
   ],
   "source": [
    "## 클래스 별 샘플 수 확인\n",
    "print(\"Number of time series in class 1.0:\", \n",
    "      len(data_train[data_train[:,0]==1.0]))\n",
    "print(\"Number of time series in class 2.0:\", \n",
    "      len(data_train[data_train[:,0]==2.0]))\n",
    "print(\"Number of time series in class 3.0:\", \n",
    "      len(data_train[data_train[:,0]==3.0]))\n",
    "print(\"Number of time series in class 4.0:\", \n",
    "      len(data_train[data_train[:,0]==4.0]))\n",
    "print(\"Number of time series in class 5.0:\", \n",
    "      len(data_train[data_train[:,0]==5.0]))"
   ]
  },
  {
   "cell_type": "code",
   "execution_count": 14,
   "metadata": {
    "colab": {
     "base_uri": "https://localhost:8080/",
     "height": 1000
    },
    "id": "gR3_B0437uRD",
    "outputId": "af283b83-f151-4c51-a44b-a614fb865345"
   },
   "outputs": [
    {
     "name": "stdout",
     "output_type": "stream",
     "text": [
      " Class  1.0  Count  292\n"
     ]
    },
    {
     "data": {
      "image/png": "[encoded data removed]",
      "text/plain": [
       "<Figure size 432x288 with 1 Axes>"
      ]
     },
     "metadata": {
      "needs_background": "light"
     },
     "output_type": "display_data"
    },
    {
     "name": "stdout",
     "output_type": "stream",
     "text": [
      " Class  2.0  Count  177\n"
     ]
    },
    {
     "data": {
      "image/png": "[encoded data removed]",
      "text/plain": [
       "<Figure size 432x288 with 1 Axes>"
      ]
     },
     "metadata": {
      "needs_background": "light"
     },
     "output_type": "display_data"
    },
    {
     "name": "stdout",
     "output_type": "stream",
     "text": [
      " Class  3.0  Count  10\n"
     ]
    },
    {
     "data": {
      "image/png": "[encoded data removed]",
      "text/plain": [
       "<Figure size 432x288 with 1 Axes>"
      ]
     },
     "metadata": {
      "needs_background": "light"
     },
     "output_type": "display_data"
    },
    {
     "name": "stdout",
     "output_type": "stream",
     "text": [
      " Class  4.0  Count  19\n"
     ]
    },
    {
     "data": {
      "image/png": "[encoded data removed]",
      "text/plain": [
       "<Figure size 432x288 with 1 Axes>"
      ]
     },
     "metadata": {
      "needs_background": "light"
     },
     "output_type": "display_data"
    },
    {
     "name": "stdout",
     "output_type": "stream",
     "text": [
      " Class  5.0  Count  2\n"
     ]
    },
    {
     "data": {
      "image/png": "[encoded data removed]",
      "text/plain": [
       "<Figure size 432x288 with 1 Axes>"
      ]
     },
     "metadata": {
      "needs_background": "light"
     },
     "output_type": "display_data"
    }
   ],
   "source": [
    "## 각 클래스 별 수치값 보기\n",
    "for j in np.unique(data_train[:,0]):\n",
    "    dataPlot = data_train[data_train[:,0]==j]\n",
    "    cnt = len(dataPlot)\n",
    "    dataPlot = dataPlot[:,1:].mean(axis=0)\n",
    "    print(\" Class \",j,\" Count \",cnt)\n",
    "    plt.plot(dataPlot)\n",
    "    plt.show()"
   ]
  },
  {
   "cell_type": "code",
   "execution_count": 15,
   "metadata": {
    "colab": {
     "base_uri": "https://localhost:8080/"
    },
    "id": "7JgU-NTY3pJY",
    "outputId": "b9b497d6-8cf6-4675-e087-c81a06c77301"
   },
   "outputs": [
    {
     "name": "stderr",
     "output_type": "stream",
     "text": [
      "/usr/local/lib/python3.7/dist-packages/ipykernel_launcher.py:7: DeprecationWarning: `np.int` is a deprecated alias for the builtin `int`. To silence this warning, use `int` by itself. Doing this will not modify any behavior and is safe. When replacing `np.int`, you may wish to use e.g. `np.int64` or `np.int32` to specify the precision. If you wish to review your current use, check the release note link for additional information.\n",
      "Deprecated in NumPy 1.20; for more details and guidance: https://numpy.org/devdocs/release/1.20.0-notes.html#deprecations\n",
      "  import sys\n",
      "/usr/local/lib/python3.7/dist-packages/ipykernel_launcher.py:9: DeprecationWarning: `np.int` is a deprecated alias for the builtin `int`. To silence this warning, use `int` by itself. Doing this will not modify any behavior and is safe. When replacing `np.int`, you may wish to use e.g. `np.int64` or `np.int32` to specify the precision. If you wish to review your current use, check the release note link for additional information.\n",
      "Deprecated in NumPy 1.20; for more details and guidance: https://numpy.org/devdocs/release/1.20.0-notes.html#deprecations\n",
      "  if __name__ == '__main__':\n"
     ]
    }
   ],
   "source": [
    "# ECG5000 training 데이터셋과 test 데이터셋을 병합한 후, 다시 training 데이터셋과 test 데이터셋으로 나누기 \n",
    "data_joined = np.concatenate((data_train,data_test),axis=0)\n",
    "data_train, data_test = train_test_split(data_joined, \n",
    "                                    test_size=0.20, random_state=2019)\n",
    "\n",
    "X_train = to_time_series_dataset(data_train[:, 1:])\n",
    "y_train = data_train[:, 0].astype(np.int)\n",
    "X_test = to_time_series_dataset(data_test[:, 1:])\n",
    "y_test = data_test[:, 0].astype(np.int)"
   ]
  },
  {
   "cell_type": "code",
   "execution_count": 16,
   "metadata": {
    "colab": {
     "base_uri": "https://localhost:8080/"
    },
    "id": "dlPhFiEg32W6",
    "outputId": "bf445b1c-2918-4441-fdf4-c1ff044699cf"
   },
   "outputs": [
    {
     "name": "stdout",
     "output_type": "stream",
     "text": [
      "Number of time series: 4000\n",
      "Number of unique classes: 5\n",
      "Time series length: 140\n",
      "Number of time series: 1000\n",
      "Number of unique classes: 5\n",
      "Time series length: 140\n"
     ]
    }
   ],
   "source": [
    "## 요약통계량 확인하기\n",
    "print(\"Number of time series:\", len(data_train))\n",
    "print(\"Number of unique classes:\", len(np.unique(data_train[:,0])))\n",
    "print(\"Time series length:\", len(data_train[0,1:]))\n",
    "\n",
    "print(\"Number of time series:\", len(data_test))\n",
    "print(\"Number of unique classes:\", len(np.unique(data_test[:,0])))\n",
    "print(\"Time series length:\", len(data_test[0,1:]))"
   ]
  },
  {
   "cell_type": "code",
   "execution_count": 17,
   "metadata": {
    "colab": {
     "base_uri": "https://localhost:8080/"
    },
    "id": "j1qLSRXR4BHk",
    "outputId": "1e72691d-489a-4fe7-c0ae-55cb192a6905"
   },
   "outputs": [
    {
     "name": "stdout",
     "output_type": "stream",
     "text": [
      "Number of time series in class 1.0: 2327\n",
      "Number of time series in class 2.0: 1423\n",
      "Number of time series in class 3.0: 75\n",
      "Number of time series in class 4.0: 156\n",
      "Number of time series in class 5.0: 19\n"
     ]
    }
   ],
   "source": [
    "## 클래스 별 샘플 수 확인\n",
    "print(\"Number of time series in class 1.0:\", \n",
    "      len(data_train[data_train[:,0]==1.0]))\n",
    "print(\"Number of time series in class 2.0:\", \n",
    "      len(data_train[data_train[:,0]==2.0]))\n",
    "print(\"Number of time series in class 3.0:\", \n",
    "      len(data_train[data_train[:,0]==3.0]))\n",
    "print(\"Number of time series in class 4.0:\", \n",
    "      len(data_train[data_train[:,0]==4.0]))\n",
    "print(\"Number of time series in class 5.0:\", \n",
    "      len(data_train[data_train[:,0]==5.0]))"
   ]
  },
  {
   "cell_type": "code",
   "execution_count": 18,
   "metadata": {
    "colab": {
     "base_uri": "https://localhost:8080/",
     "height": 1000
    },
    "id": "3ic9W8FC4IUE",
    "outputId": "2b776df9-74a3-4590-ea95-319dc65b74eb"
   },
   "outputs": [
    {
     "name": "stdout",
     "output_type": "stream",
     "text": [
      " Class  1.0  Count  2327\n"
     ]
    },
    {
     "data": {
      "image/png": "[encoded data removed]",
      "text/plain": [
       "<Figure size 432x288 with 1 Axes>"
      ]
     },
     "metadata": {
      "needs_background": "light"
     },
     "output_type": "display_data"
    },
    {
     "name": "stdout",
     "output_type": "stream",
     "text": [
      " Class  2.0  Count  1423\n"
     ]
    },
    {
     "data": {
      "image/png": "[encoded data removed]",
      "text/plain": [
       "<Figure size 432x288 with 1 Axes>"
      ]
     },
     "metadata": {
      "needs_background": "light"
     },
     "output_type": "display_data"
    },
    {
     "name": "stdout",
     "output_type": "stream",
     "text": [
      " Class  3.0  Count  75\n"
     ]
    },
    {
     "data": {
      "image/png": "[encoded data removed]",
      "text/plain": [
       "<Figure size 432x288 with 1 Axes>"
      ]
     },
     "metadata": {
      "needs_background": "light"
     },
     "output_type": "display_data"
    },
    {
     "name": "stdout",
     "output_type": "stream",
     "text": [
      " Class  4.0  Count  156\n"
     ]
    },
    {
     "data": {
      "image/png": "[encoded data removed]",
      "text/plain": [
       "<Figure size 432x288 with 1 Axes>"
      ]
     },
     "metadata": {
      "needs_background": "light"
     },
     "output_type": "display_data"
    },
    {
     "name": "stdout",
     "output_type": "stream",
     "text": [
      " Class  5.0  Count  19\n"
     ]
    },
    {
     "data": {
      "image/png": "[encoded data removed]",
      "text/plain": [
       "<Figure size 432x288 with 1 Axes>"
      ]
     },
     "metadata": {
      "needs_background": "light"
     },
     "output_type": "display_data"
    }
   ],
   "source": [
    "## 각 클래스 별 수치값 보기\n",
    "for j in np.unique(data_train[:,0]):\n",
    "    dataPlot = data_train[data_train[:,0]==j]\n",
    "    cnt = len(dataPlot)\n",
    "    dataPlot = dataPlot[:,1:].mean(axis=0)\n",
    "    print(\" Class \",j,\" Count \",cnt)\n",
    "    plt.plot(dataPlot)\n",
    "    plt.show()"
   ]
  },
  {
   "cell_type": "code",
   "execution_count": 19,
   "metadata": {
    "id": "KLBB2pod71d7"
   },
   "outputs": [],
   "source": [
    "## 데이터 정규화\n",
    "X_train = TimeSeriesScalerMeanVariance(mu=0., std=1.).fit_transform(X_train)\n",
    "X_test = TimeSeriesScalerMeanVariance(mu=0., std=1.).fit_transform(X_test)"
   ]
  },
  {
   "cell_type": "code",
   "execution_count": 20,
   "metadata": {
    "id": "00GOdpwrG4x-"
   },
   "outputs": [],
   "source": [
    "### k-shape\n",
    "## https://tslearn.readthedocs.io/en/stable/gen_modules/clustering/tslearn.clustering.KShape.html\n",
    "## 논문: http://www1.cs.columbia.edu/~jopa/Papers/PaparrizosSIGMOD2015.pdf\n",
    "## 논문: http://web5.cs.columbia.edu/~gravano/Papers/2017/tods17.pdf\n",
    "## 논문: https://fluidsbarrierscns.biomedcentral.com/track/pdf/10.1186/s12987-022-00311-5.pdf\n",
    "## https://techy8855.tistory.com/m/21\n",
    "## 성능평가측도: 수정된 Rand 지수 - 우연히 그룹회된 성분에 대해 조정된 두 데이터 군집 간 유사성 측도\n",
    "# 예측군집과 실제 군집 사이의 군집 할당에서 일치하는 개수를 측정한다.\n",
    "# 0에 가까운 경우 순전히 무작위로 군집을 할당한 것\n",
    "# 1에 가까울 경우 예측군집과 실제군집이 정확하게 일치하는 것 "
   ]
  },
  {
   "cell_type": "code",
   "execution_count": 21,
   "metadata": {
    "colab": {
     "base_uri": "https://localhost:8080/"
    },
    "id": "MkPjQeVC77VL",
    "outputId": "936f7737-d1a9-44c1-b67f-fb320a80b8c9"
   },
   "outputs": [
    {
     "name": "stdout",
     "output_type": "stream",
     "text": [
      "Init 1\n",
      "0.015 --> 0.015 --> \n",
      "Init 2\n",
      "0.014 --> 0.014 --> \n",
      "Init 3\n",
      "0.018 --> 0.017 --> 0.018 --> \n",
      "Init 4\n",
      "0.017 --> 0.016 --> 0.018 --> \n",
      "Init 5\n",
      "0.016 --> 0.017 --> \n",
      "Init 6\n",
      "0.012 --> 0.012 --> \n",
      "Init 7\n",
      "0.016 --> 0.014 --> 0.016 --> \n",
      "Init 8\n",
      "0.015 --> 0.014 --> 0.015 --> \n",
      "Init 9\n",
      "0.017 --> 0.017 --> 0.018 --> \n",
      "Init 10\n",
      "0.015 --> 0.016 --> \n"
     ]
    },
    {
     "data": {
      "text/plain": [
       "KShape(n_clusters=5, n_init=10, random_state=2019, verbose=1)"
      ]
     },
     "execution_count": 21,
     "metadata": {},
     "output_type": "execute_result"
    }
   ],
   "source": [
    "## k-shape를 사용한 훈련\n",
    "ks = KShape(n_clusters=5, max_iter=100, n_init=10,verbose=1,random_state=2019)\n",
    "ks.fit(X_train)"
   ]
  },
  {
   "cell_type": "code",
   "execution_count": 22,
   "metadata": {
    "colab": {
     "base_uri": "https://localhost:8080/"
    },
    "id": "yPw6sBjD78DY",
    "outputId": "38ced174-4443-4616-fb90-6e9d59dc372b"
   },
   "outputs": [
    {
     "name": "stdout",
     "output_type": "stream",
     "text": [
      "Adjusted Rand Index on Training Set: 0.5553639462811412\n"
     ]
    }
   ],
   "source": [
    "## 훈련 데이터에 대한 예측값 생성 및 수정된 Rand 지수 계산\n",
    "preds = ks.predict(X_train)\n",
    "ars = adjusted_rand_score(data_train[:,0],preds)\n",
    "print(\"Adjusted Rand Index on Training Set:\", ars)"
   ]
  },
  {
   "cell_type": "code",
   "execution_count": 23,
   "metadata": {
    "colab": {
     "base_uri": "https://localhost:8080/"
    },
    "id": "69ZxexIr8FJC",
    "outputId": "9b49eb3e-ebc3-42b0-bc6a-9cb616fafeaf"
   },
   "outputs": [
    {
     "name": "stdout",
     "output_type": "stream",
     "text": [
      "Adjusted Rand Index on Test Set: 0.5301670526070555\n"
     ]
    }
   ],
   "source": [
    "## 테스트 데이터에 대한 예측값 생성 및 수정된 Rand 지수 계산\n",
    "preds = ks.predict(X_train)\n",
    "preds_test = ks.predict(X_test)\n",
    "ars = adjusted_rand_score(data_test[:,0],preds_test)\n",
    "print(\"Adjusted Rand Index on Test Set:\", ars)"
   ]
  },
  {
   "cell_type": "code",
   "execution_count": 24,
   "metadata": {
    "colab": {
     "base_uri": "https://localhost:8080/"
    },
    "id": "bdAHyhdn8GKY",
    "outputId": "1271da23-34ae-46a0-c388-eff6b3c4db56"
   },
   "outputs": [
    {
     "name": "stdout",
     "output_type": "stream",
     "text": [
      "Predicted Cluster  0.0\n",
      "2.0    127\n",
      "3.0      9\n",
      "4.0      6\n",
      "5.0      1\n",
      "Name: actual, dtype: int64\n",
      "\n",
      "Predicted Cluster  1.0\n",
      "2.0    197\n",
      "1.0     18\n",
      "4.0      9\n",
      "3.0      3\n",
      "Name: actual, dtype: int64\n",
      "\n",
      "Predicted Cluster  2.0\n",
      "2.0    18\n",
      "4.0    18\n",
      "5.0     3\n",
      "3.0     2\n",
      "1.0     2\n",
      "Name: actual, dtype: int64\n",
      "\n",
      "Predicted Cluster  3.0\n",
      "1.0    130\n",
      "3.0      3\n",
      "4.0      2\n",
      "2.0      1\n",
      "5.0      1\n",
      "Name: actual, dtype: int64\n",
      "\n",
      "Predicted Cluster  4.0\n",
      "1.0    442\n",
      "3.0      4\n",
      "4.0      3\n",
      "2.0      1\n",
      "Name: actual, dtype: int64\n",
      "\n",
      "Count of Non-Primary Points:  86\n"
     ]
    }
   ],
   "source": [
    "## 군집별 적합도 검정\n",
    "preds_test = preds_test.reshape(1000,1)\n",
    "preds_test = np.hstack((preds_test,data_test[:,0].reshape(1000,1)))\n",
    "preds_test = pd.DataFrame(data=preds_test)\n",
    "preds_test = preds_test.rename(columns={0: 'prediction', 1: 'actual'})\n",
    "\n",
    "counter = 0\n",
    "for i in np.sort(preds_test.prediction.unique()):\n",
    "    print(\"Predicted Cluster \", i)\n",
    "    print(preds_test.actual[preds_test.prediction==i].value_counts())\n",
    "    print()\n",
    "    cnt = preds_test.actual[preds_test.prediction==i].value_counts().iloc[1:].sum()\n",
    "    counter = counter + cnt\n",
    "print(\"Count of Non-Primary Points: \", counter)"
   ]
  },
  {
   "cell_type": "code",
   "execution_count": 25,
   "metadata": {
    "colab": {
     "base_uri": "https://localhost:8080/"
    },
    "id": "uxHlw55I8JmX",
    "outputId": "02b0f990-15a8-4820-f878-2ed3bc6e21c2"
   },
   "outputs": [
    {
     "name": "stdout",
     "output_type": "stream",
     "text": [
      "Init 1\n",
      "36.241 --> 27.298 --> 26.273 --> 25.556 --> 25.120 --> 24.912 --> 24.831 --> 24.815 --> 24.813 --> 24.812 --> 24.812 --> 24.812 --> 24.812 --> \n",
      "Init 2\n",
      "37.226 --> 25.264 --> 24.680 --> 24.430 --> 24.296 --> 24.202 --> 24.155 --> 24.136 --> 24.128 --> 24.124 --> 24.121 --> 24.119 --> 24.118 --> 24.117 --> 24.117 --> 24.117 --> 24.117 --> 24.116 --> 24.116 --> 24.116 --> 24.116 --> 24.115 --> 24.115 --> 24.115 --> 24.114 --> 24.113 --> 24.112 --> 24.111 --> 24.110 --> 24.109 --> 24.108 --> 24.108 --> 24.108 --> \n",
      "Init 3\n",
      "33.738 --> 25.341 --> 25.014 --> 24.795 --> 24.664 --> 24.623 --> 24.616 --> 24.615 --> 24.614 --> 24.614 --> 24.614 --> \n",
      "Init 4\n",
      "30.531 --> 24.956 --> 24.740 --> 24.663 --> 24.629 --> 24.615 --> 24.603 --> 24.595 --> 24.585 --> 24.567 --> 24.560 --> 24.559 --> 24.559 --> 24.559 --> 24.559 --> 24.559 --> 24.559 --> \n",
      "Init 5\n",
      "34.030 --> 25.598 --> 25.398 --> 25.344 --> 25.310 --> 25.277 --> 25.236 --> 25.159 --> 25.005 --> 24.834 --> 24.725 --> 24.666 --> 24.636 --> 24.620 --> 24.609 --> 24.600 --> 24.594 --> 24.588 --> 24.583 --> 24.579 --> 24.575 --> 24.572 --> 24.571 --> 24.569 --> 24.568 --> 24.567 --> 24.566 --> 24.566 --> 24.565 --> 24.565 --> 24.565 --> 24.565 --> 24.565 --> 24.565 --> \n",
      "Init 6\n",
      "35.921 --> 26.806 --> 26.175 --> 25.948 --> 25.847 --> 25.790 --> 25.758 --> 25.737 --> 25.728 --> 25.724 --> 25.720 --> 25.717 --> 25.710 --> 25.706 --> 25.706 --> 25.704 --> 25.704 --> 25.703 --> 25.702 --> 25.699 --> 25.691 --> 25.671 --> 25.637 --> 25.585 --> 25.476 --> 25.350 --> 25.234 --> 25.144 --> 25.060 --> 24.980 --> 24.918 --> 24.878 --> 24.843 --> 24.821 --> 24.807 --> 24.794 --> 24.785 --> 24.778 --> 24.769 --> 24.757 --> 24.746 --> 24.733 --> 24.723 --> 24.711 --> 24.693 --> 24.671 --> 24.648 --> 24.624 --> 24.606 --> 24.594 --> 24.589 --> 24.587 --> 24.585 --> 24.583 --> 24.582 --> 24.579 --> 24.577 --> 24.574 --> 24.572 --> 24.570 --> 24.569 --> 24.568 --> 24.567 --> 24.566 --> 24.566 --> 24.565 --> 24.565 --> 24.565 --> 24.565 --> 24.565 --> 24.565 --> \n",
      "Init 7\n",
      "35.474 --> 25.483 --> 25.102 --> 25.006 --> 24.968 --> 24.947 --> 24.929 --> 24.914 --> 24.899 --> 24.875 --> 24.820 --> 24.691 --> 24.515 --> 24.419 --> 24.334 --> 24.270 --> 24.231 --> 24.205 --> 24.186 --> 24.175 --> 24.165 --> 24.151 --> 24.134 --> 24.121 --> 24.114 --> 24.111 --> 24.109 --> 24.109 --> 24.109 --> 24.109 --> 24.109 --> 24.108 --> 24.108 --> 24.108 --> 24.108 --> \n",
      "Init 8\n",
      "36.109 --> 25.615 --> 24.782 --> 24.420 --> 24.254 --> 24.198 --> 24.163 --> 24.141 --> 24.129 --> 24.124 --> 24.120 --> 24.119 --> 24.118 --> 24.117 --> 24.117 --> 24.116 --> 24.116 --> 24.116 --> 24.115 --> 24.115 --> 24.114 --> 24.113 --> 24.112 --> 24.111 --> 24.110 --> 24.109 --> 24.108 --> 24.108 --> 24.108 --> \n",
      "Init 9\n",
      "34.295 --> 25.686 --> 25.302 --> 25.149 --> 25.074 --> 25.036 --> 25.014 --> 24.998 --> 24.988 --> 24.972 --> 24.949 --> 24.933 --> 24.921 --> 24.910 --> 24.899 --> 24.886 --> 24.870 --> 24.851 --> 24.821 --> 24.711 --> 24.542 --> 24.436 --> 24.347 --> 24.276 --> 24.236 --> 24.211 --> 24.187 --> 24.176 --> 24.166 --> 24.152 --> 24.134 --> 24.121 --> 24.114 --> 24.111 --> 24.110 --> 24.109 --> 24.109 --> 24.109 --> 24.108 --> 24.108 --> 24.108 --> 24.108 --> 24.108 --> \n",
      "Init 10\n",
      "34.954 --> 25.861 --> 25.397 --> 25.133 --> 24.986 --> 24.876 --> 24.825 --> 24.800 --> 24.786 --> 24.773 --> 24.759 --> 24.747 --> 24.732 --> 24.722 --> 24.710 --> 24.692 --> 24.670 --> 24.647 --> 24.624 --> 24.605 --> 24.594 --> 24.589 --> 24.587 --> 24.585 --> 24.583 --> 24.582 --> 24.580 --> 24.578 --> 24.574 --> 24.572 --> 24.570 --> 24.569 --> 24.568 --> 24.567 --> 24.566 --> 24.566 --> 24.565 --> 24.565 --> 24.565 --> 24.565 --> 24.565 --> 24.565 --> \n",
      "Init 11\n",
      "35.866 --> 26.286 --> 25.437 --> 25.111 --> 24.959 --> 24.889 --> 24.859 --> 24.840 --> 24.830 --> 24.825 --> 24.823 --> 24.820 --> 24.818 --> 24.818 --> 24.816 --> 24.814 --> 24.813 --> 24.812 --> 24.812 --> 24.812 --> 24.812 --> \n",
      "Init 12\n",
      "35.691 --> 25.404 --> 25.179 --> 25.068 --> 24.890 --> 24.641 --> 24.345 --> 24.244 --> 24.204 --> 24.186 --> 24.175 --> 24.168 --> 24.157 --> 24.142 --> 24.127 --> 24.116 --> 24.111 --> 24.110 --> 24.109 --> 24.109 --> 24.109 --> 24.109 --> 24.109 --> 24.109 --> 24.109 --> 24.109 --> 24.109 --> 24.109 --> 24.109 --> 24.109 --> \n",
      "Init 13\n",
      "31.996 --> 25.031 --> 24.737 --> 24.662 --> 24.635 --> 24.625 --> 24.623 --> 24.621 --> 24.618 --> 24.616 --> 24.616 --> 24.614 --> 24.612 --> 24.612 --> 24.611 --> 24.611 --> 24.611 --> 24.610 --> 24.610 --> 24.610 --> 24.610 --> 24.610 --> 24.610 --> \n",
      "Init 14\n",
      "36.067 --> 26.034 --> 24.982 --> 24.510 --> 24.320 --> 24.240 --> 24.211 --> 24.194 --> 24.186 --> 24.183 --> 24.180 --> 24.178 --> 24.175 --> 24.171 --> 24.161 --> 24.137 --> 24.093 --> 24.059 --> 24.047 --> 24.040 --> 24.035 --> 24.030 --> 24.025 --> 24.023 --> 24.021 --> 24.020 --> 24.018 --> 24.016 --> 24.015 --> 24.015 --> 24.014 --> 24.013 --> 24.013 --> 24.013 --> 24.013 --> 24.013 --> 24.013 --> 24.013 --> 24.012 --> 24.012 --> 24.012 --> 24.012 --> 24.012 --> 24.012 --> 24.012 --> 24.011 --> 24.011 --> 24.011 --> 24.011 --> 24.011 --> 24.011 --> 24.011 --> 24.011 --> 24.011 --> \n",
      "Init 15\n",
      "35.937 --> 25.837 --> 25.584 --> 25.520 --> 25.430 --> 25.287 --> 25.200 --> 25.122 --> 25.034 --> 24.992 --> 24.975 --> 24.965 --> 24.953 --> 24.943 --> 24.928 --> 24.914 --> 24.903 --> 24.890 --> 24.872 --> 24.854 --> 24.824 --> 24.719 --> 24.547 --> 24.439 --> 24.348 --> 24.276 --> 24.236 --> 24.211 --> 24.187 --> 24.176 --> 24.166 --> 24.152 --> 24.134 --> 24.121 --> 24.114 --> 24.111 --> 24.110 --> 24.109 --> 24.109 --> 24.109 --> 24.108 --> 24.108 --> 24.108 --> 24.108 --> 24.108 --> \n",
      "Init 16\n",
      "33.314 --> 25.105 --> 24.911 --> 24.830 --> 24.770 --> 24.724 --> 24.700 --> 24.683 --> 24.678 --> 24.671 --> 24.663 --> 24.656 --> 24.651 --> 24.645 --> 24.640 --> 24.634 --> 24.628 --> 24.619 --> 24.609 --> 24.597 --> 24.589 --> 24.577 --> 24.561 --> 24.545 --> 24.533 --> 24.525 --> 24.517 --> 24.507 --> 24.496 --> 24.487 --> 24.484 --> 24.481 --> 24.479 --> 24.474 --> 24.471 --> 24.468 --> 24.464 --> 24.461 --> 24.460 --> 24.459 --> 24.459 --> 24.458 --> 24.457 --> 24.457 --> 24.457 --> 24.456 --> 24.456 --> 24.455 --> 24.455 --> 24.455 --> 24.454 --> 24.454 --> 24.454 --> 24.454 --> \n",
      "Init 17\n",
      "35.132 --> 25.930 --> 25.168 --> 24.789 --> 24.459 --> 24.245 --> 24.158 --> 24.132 --> 24.123 --> 24.119 --> 24.117 --> 24.115 --> 24.115 --> 24.115 --> 24.115 --> \n",
      "Init 18\n",
      "39.780 --> 24.673 --> 24.143 --> 24.042 --> 24.028 --> 24.023 --> 24.019 --> 24.016 --> 24.014 --> 24.012 --> 24.012 --> 24.012 --> 24.012 --> 24.012 --> 24.012 --> 24.012 --> 24.012 --> 24.012 --> 24.012 --> \n",
      "Init 19\n",
      "35.424 --> 25.378 --> 24.952 --> 24.694 --> 24.518 --> 24.404 --> 24.321 --> 24.252 --> 24.186 --> 24.145 --> 24.130 --> 24.122 --> 24.119 --> 24.118 --> 24.117 --> 24.117 --> 24.117 --> 24.117 --> 24.116 --> 24.116 --> 24.116 --> 24.116 --> 24.115 --> 24.115 --> 24.115 --> 24.114 --> 24.113 --> 24.112 --> 24.111 --> 24.110 --> 24.109 --> 24.108 --> 24.108 --> 24.108 --> \n",
      "Init 20\n",
      "34.143 --> 26.742 --> 24.959 --> 24.689 --> 24.644 --> 24.632 --> 24.625 --> 24.620 --> 24.618 --> 24.617 --> 24.616 --> 24.616 --> 24.615 --> 24.614 --> 24.614 --> 24.614 --> \n",
      "Init 21\n",
      "36.437 --> 25.933 --> 25.279 --> 25.046 --> 24.983 --> 24.936 --> 24.893 --> 24.846 --> 24.810 --> 24.780 --> 24.743 --> 24.707 --> 24.680 --> 24.651 --> 24.626 --> 24.609 --> 24.598 --> 24.591 --> 24.587 --> 24.584 --> 24.582 --> 24.580 --> 24.578 --> 24.574 --> 24.572 --> 24.570 --> 24.569 --> 24.568 --> 24.567 --> 24.566 --> 24.566 --> 24.565 --> 24.565 --> 24.565 --> 24.565 --> 24.565 --> 24.565 --> \n",
      "Init 22\n",
      "34.051 --> 26.401 --> 26.167 --> 26.048 --> 25.956 --> 25.917 --> 25.906 --> 25.901 --> 25.898 --> 25.897 --> 25.894 --> 25.893 --> 25.893 --> 25.893 --> \n",
      "Init 23\n",
      "30.350 --> 24.587 --> 24.329 --> 24.234 --> 24.181 --> 24.153 --> 24.137 --> 24.128 --> 24.122 --> 24.117 --> 24.116 --> 24.115 --> 24.115 --> 24.115 --> 24.114 --> 24.114 --> 24.114 --> 24.113 --> 24.112 --> 24.111 --> 24.109 --> 24.108 --> 24.107 --> 24.107 --> 24.107 --> 24.107 --> 24.107 --> \n",
      "Init 24\n",
      "36.365 --> 25.804 --> 24.971 --> 24.693 --> 24.548 --> 24.483 --> 24.440 --> 24.403 --> 24.369 --> 24.331 --> 24.288 --> 24.241 --> 24.184 --> 24.135 --> 24.099 --> 24.082 --> 24.071 --> 24.059 --> 24.047 --> 24.040 --> 24.034 --> 24.027 --> 24.021 --> 24.017 --> 24.015 --> 24.014 --> 24.013 --> 24.012 --> 24.012 --> 24.012 --> 24.012 --> 24.012 --> 24.012 --> 24.011 --> 24.011 --> 24.011 --> 24.011 --> 24.011 --> 24.011 --> 24.011 --> \n",
      "Init 25\n",
      "35.882 --> 25.390 --> 24.900 --> 24.715 --> 24.656 --> 24.635 --> 24.624 --> 24.617 --> 24.612 --> 24.611 --> 24.610 --> 24.610 --> 24.610 --> 24.610 --> 24.610 --> 24.610 --> \n",
      "Init 26\n",
      "43.128 --> 26.938 --> 26.378 --> 26.109 --> 25.736 --> 25.289 --> 25.034 --> 24.918 --> 24.868 --> 24.847 --> 24.839 --> 24.837 --> 24.837 --> 24.837 --> 24.837 --> \n",
      "Init 27\n",
      "34.117 --> 25.676 --> 25.328 --> 25.086 --> 24.843 --> 24.646 --> 24.495 --> 24.387 --> 24.309 --> 24.244 --> 24.184 --> 24.145 --> 24.129 --> 24.122 --> 24.120 --> 24.118 --> 24.117 --> 24.117 --> 24.117 --> 24.116 --> 24.116 --> 24.115 --> 24.115 --> 24.114 --> 24.113 --> 24.112 --> 24.111 --> 24.110 --> 24.109 --> 24.108 --> 24.108 --> 24.108 --> \n",
      "Init 28\n",
      "35.777 --> 25.514 --> 25.233 --> 25.151 --> 25.064 --> 25.006 --> 24.940 --> 24.898 --> 24.869 --> 24.830 --> 24.727 --> 24.552 --> 24.449 --> 24.367 --> 24.285 --> 24.241 --> 24.214 --> 24.192 --> 24.180 --> 24.170 --> 24.159 --> 24.143 --> 24.127 --> 24.116 --> 24.112 --> 24.110 --> 24.109 --> 24.109 --> 24.109 --> 24.109 --> 24.109 --> 24.108 --> 24.108 --> 24.108 --> 24.108 --> \n",
      "Init 29\n",
      "37.126 --> 25.976 --> 25.532 --> 25.103 --> 24.633 --> 24.335 --> 24.198 --> 24.122 --> 24.091 --> 24.073 --> 24.061 --> 24.048 --> 24.038 --> 24.031 --> 24.023 --> 24.018 --> 24.014 --> 24.012 --> 24.011 --> 24.011 --> 24.011 --> 24.011 --> 24.011 --> 24.011 --> 24.011 --> \n",
      "Init 30\n",
      "35.411 --> 24.754 --> 24.357 --> 24.258 --> 24.193 --> 24.141 --> 24.100 --> 24.082 --> 24.069 --> 24.057 --> 24.045 --> 24.036 --> 24.030 --> 24.024 --> 24.018 --> 24.014 --> 24.012 --> 24.011 --> 24.011 --> 24.011 --> 24.011 --> 24.011 --> 24.011 --> 24.011 --> \n",
      "Init 31\n",
      "40.185 --> 26.640 --> 26.455 --> 26.266 --> 25.646 --> 25.111 --> 24.945 --> 24.883 --> 24.854 --> 24.843 --> 24.839 --> 24.838 --> 24.837 --> 24.837 --> 24.837 --> 24.837 --> \n",
      "Init 32\n",
      "32.643 --> 24.651 --> 24.181 --> 24.098 --> 24.072 --> 24.057 --> 24.046 --> 24.035 --> 24.025 --> 24.019 --> 24.015 --> 24.013 --> 24.012 --> 24.011 --> 24.011 --> 24.011 --> 24.011 --> 24.011 --> \n",
      "Init 33\n",
      "36.987 --> 26.258 --> 25.229 --> 24.861 --> 24.660 --> 24.500 --> 24.372 --> 24.294 --> 24.225 --> 24.191 --> 24.169 --> 24.149 --> 24.132 --> 24.123 --> 24.119 --> 24.118 --> 24.117 --> 24.116 --> 24.115 --> 24.115 --> 24.113 --> 24.112 --> 24.110 --> 24.109 --> 24.108 --> 24.108 --> 24.108 --> \n",
      "Init 34\n",
      "36.448 --> 27.056 --> 26.656 --> 26.235 --> 25.590 --> 25.358 --> 25.274 --> 25.192 --> 25.055 --> 24.915 --> 24.840 --> 24.812 --> 24.796 --> 24.778 --> 24.763 --> 24.748 --> 24.734 --> 24.721 --> 24.704 --> 24.683 --> 24.661 --> 24.636 --> 24.614 --> 24.599 --> 24.592 --> 24.588 --> 24.586 --> 24.584 --> 24.582 --> 24.580 --> 24.578 --> 24.575 --> 24.572 --> 24.571 --> 24.569 --> 24.568 --> 24.567 --> 24.566 --> 24.566 --> 24.565 --> 24.565 --> 24.565 --> 24.565 --> 24.565 --> 24.565 --> \n",
      "Init 35\n",
      "33.242 --> 26.436 --> 25.798 --> 25.057 --> 24.869 --> 24.821 --> 24.787 --> 24.767 --> 24.749 --> 24.734 --> 24.710 --> 24.687 --> 24.661 --> 24.635 --> 24.613 --> 24.599 --> 24.592 --> 24.588 --> 24.585 --> 24.583 --> 24.581 --> 24.579 --> 24.577 --> 24.574 --> 24.572 --> 24.570 --> 24.569 --> 24.568 --> 24.567 --> 24.566 --> 24.566 --> 24.565 --> 24.565 --> 24.565 --> 24.565 --> 24.565 --> 24.565 --> \n",
      "Init 36\n",
      "34.636 --> 25.300 --> 24.923 --> 24.655 --> 24.472 --> 24.390 --> 24.316 --> 24.257 --> 24.221 --> 24.197 --> 24.182 --> 24.174 --> 24.165 --> 24.150 --> 24.131 --> 24.119 --> 24.113 --> 24.110 --> 24.109 --> 24.109 --> 24.109 --> 24.109 --> 24.108 --> 24.108 --> 24.108 --> 24.108 --> 24.108 --> \n",
      "Init 37\n",
      "41.475 --> 27.367 --> 26.386 --> 25.404 --> 24.908 --> 24.717 --> 24.594 --> 24.506 --> 24.452 --> 24.393 --> 24.315 --> 24.234 --> 24.176 --> 24.138 --> 24.128 --> 24.124 --> 24.121 --> 24.118 --> 24.117 --> 24.117 --> 24.116 --> 24.116 --> 24.116 --> 24.116 --> 24.116 --> 24.116 --> 24.116 --> \n",
      "Init 38\n",
      "31.835 --> 24.996 --> 24.577 --> 24.454 --> 24.331 --> 24.251 --> 24.206 --> 24.179 --> 24.159 --> 24.147 --> 24.142 --> 24.137 --> 24.131 --> 24.121 --> 24.115 --> 24.113 --> 24.111 --> 24.110 --> 24.109 --> 24.108 --> 24.107 --> 24.107 --> 24.107 --> 24.107 --> \n",
      "Init 39\n",
      "37.564 --> 25.992 --> 25.333 --> 24.974 --> 24.868 --> 24.830 --> 24.810 --> 24.798 --> 24.787 --> 24.781 --> 24.774 --> 24.765 --> 24.754 --> 24.742 --> 24.729 --> 24.717 --> 24.701 --> 24.680 --> 24.655 --> 24.631 --> 24.611 --> 24.598 --> 24.591 --> 24.587 --> 24.585 --> 24.583 --> 24.582 --> 24.580 --> 24.578 --> 24.575 --> 24.572 --> 24.571 --> 24.569 --> 24.568 --> 24.567 --> 24.566 --> 24.566 --> 24.565 --> 24.565 --> 24.565 --> 24.565 --> 24.565 --> 24.565 --> \n",
      "Init 40\n",
      "37.942 --> 25.110 --> 24.868 --> 24.830 --> 24.821 --> 24.815 --> 24.813 --> 24.812 --> 24.812 --> 24.812 --> 24.812 --> 24.812 --> \n",
      "Init 41\n",
      "34.761 --> 27.148 --> 26.308 --> 25.888 --> 25.703 --> 25.557 --> 25.431 --> 25.306 --> 25.196 --> 25.058 --> 24.864 --> 24.720 --> 24.643 --> 24.598 --> 24.582 --> 24.573 --> 24.568 --> 24.566 --> 24.565 --> 24.565 --> 24.565 --> 24.565 --> 24.565 --> \n",
      "Init 42\n",
      "34.503 --> 24.416 --> 24.231 --> 24.184 --> 24.164 --> 24.153 --> 24.145 --> 24.139 --> 24.132 --> 24.125 --> 24.120 --> 24.117 --> 24.114 --> 24.111 --> 24.109 --> 24.108 --> 24.107 --> 24.107 --> 24.107 --> 24.107 --> \n",
      "Init 43\n",
      "36.234 --> 26.059 --> 25.199 --> 24.904 --> 24.753 --> 24.686 --> 24.660 --> 24.647 --> 24.641 --> 24.637 --> 24.632 --> 24.630 --> 24.629 --> 24.628 --> 24.627 --> 24.626 --> 24.624 --> 24.624 --> 24.624 --> 24.624 --> \n",
      "Init 44\n",
      "33.049 --> 24.671 --> 24.418 --> 24.385 --> 24.379 --> 24.377 --> 24.376 --> 24.376 --> 24.375 --> 24.375 --> 24.375 --> 24.375 --> 24.375 --> 24.375 --> 24.375 --> \n",
      "Init 45\n",
      "37.180 --> 25.466 --> 24.907 --> 24.832 --> 24.797 --> 24.780 --> 24.769 --> 24.756 --> 24.743 --> 24.731 --> 24.721 --> 24.708 --> 24.690 --> 24.670 --> 24.647 --> 24.623 --> 24.605 --> 24.594 --> 24.589 --> 24.587 --> 24.585 --> 24.583 --> 24.582 --> 24.580 --> 24.578 --> 24.574 --> 24.572 --> 24.570 --> 24.569 --> 24.568 --> 24.567 --> 24.566 --> 24.566 --> 24.565 --> 24.565 --> 24.565 --> 24.565 --> 24.565 --> 24.565 --> \n",
      "Init 46\n",
      "37.233 --> 25.446 --> 25.136 --> 24.957 --> 24.840 --> 24.771 --> 24.723 --> 24.693 --> 24.668 --> 24.643 --> 24.624 --> 24.609 --> 24.600 --> 24.595 --> 24.590 --> 24.583 --> 24.581 --> 24.580 --> 24.579 --> 24.578 --> 24.578 --> 24.578 --> 24.578 --> 24.577 --> 24.577 --> 24.576 --> 24.576 --> 24.576 --> 24.576 --> 24.576 --> \n",
      "Init 47\n",
      "34.869 --> 26.043 --> 25.584 --> 25.256 --> 25.096 --> 24.999 --> 24.907 --> 24.819 --> 24.745 --> 24.685 --> 24.650 --> 24.621 --> 24.601 --> 24.590 --> 24.579 --> 24.571 --> 24.567 --> 24.564 --> 24.563 --> 24.563 --> 24.562 --> 24.562 --> 24.562 --> 24.562 --> 24.562 --> 24.562 --> \n",
      "Init 48\n",
      "35.529 --> 25.838 --> 25.306 --> 25.095 --> 24.974 --> 24.898 --> 24.847 --> 24.824 --> 24.808 --> 24.796 --> 24.786 --> 24.779 --> 24.771 --> 24.760 --> 24.749 --> 24.735 --> 24.724 --> 24.712 --> 24.693 --> 24.671 --> 24.648 --> 24.624 --> 24.606 --> 24.594 --> 24.589 --> 24.587 --> 24.585 --> 24.583 --> 24.582 --> 24.579 --> 24.577 --> 24.574 --> 24.572 --> 24.570 --> 24.569 --> 24.568 --> 24.567 --> 24.566 --> 24.566 --> 24.565 --> 24.565 --> 24.565 --> 24.565 --> 24.565 --> 24.565 --> \n",
      "Init 49\n",
      "31.995 --> 26.409 --> 26.223 --> 26.084 --> 25.908 --> 25.709 --> 25.519 --> 25.283 --> 25.122 --> 25.002 --> 24.931 --> 24.881 --> 24.845 --> 24.824 --> 24.810 --> 24.796 --> 24.785 --> 24.778 --> 24.768 --> 24.756 --> 24.745 --> 24.732 --> 24.722 --> 24.710 --> 24.692 --> 24.671 --> 24.648 --> 24.624 --> 24.606 --> 24.594 --> 24.589 --> 24.587 --> 24.585 --> 24.583 --> 24.582 --> 24.579 --> 24.577 --> 24.574 --> 24.572 --> 24.570 --> 24.569 --> 24.568 --> 24.567 --> 24.566 --> 24.566 --> 24.565 --> 24.565 --> 24.565 --> 24.565 --> 24.565 --> 24.565 --> \n",
      "Init 50\n",
      "31.104 --> 25.217 --> 24.696 --> 24.446 --> 24.321 --> 24.254 --> 24.212 --> 24.193 --> 24.183 --> 24.175 --> 24.164 --> 24.150 --> 24.131 --> 24.118 --> 24.113 --> 24.110 --> 24.109 --> 24.109 --> 24.109 --> 24.109 --> 24.108 --> 24.108 --> 24.108 --> 24.108 --> 24.108 --> \n",
      "Init 51\n",
      "35.292 --> 26.296 --> 25.382 --> 24.928 --> 24.560 --> 24.369 --> 24.268 --> 24.206 --> 24.158 --> 24.126 --> 24.102 --> 24.079 --> 24.058 --> 24.045 --> 24.037 --> 24.030 --> 24.023 --> 24.018 --> 24.015 --> 24.014 --> 24.014 --> 24.014 --> 24.014 --> 24.014 --> 24.014 --> \n",
      "Init 52\n",
      "37.300 --> 25.473 --> 25.103 --> 25.037 --> 25.008 --> 24.986 --> 24.958 --> 24.942 --> 24.928 --> 24.910 --> 24.892 --> 24.860 --> 24.820 --> 24.701 --> 24.533 --> 24.441 --> 24.354 --> 24.278 --> 24.236 --> 24.211 --> 24.187 --> 24.176 --> 24.166 --> 24.152 --> 24.134 --> 24.121 --> 24.114 --> 24.111 --> 24.110 --> 24.109 --> 24.109 --> 24.109 --> 24.108 --> 24.108 --> 24.108 --> 24.108 --> 24.108 --> \n",
      "Init 53\n",
      "32.536 --> 25.431 --> 25.017 --> 24.765 --> 24.641 --> 24.603 --> 24.587 --> 24.583 --> 24.581 --> 24.579 --> 24.574 --> 24.564 --> 24.549 --> 24.546 --> 24.545 --> 24.544 --> 24.544 --> 24.544 --> 24.544 --> 24.544 --> 24.544 --> \n",
      "Init 54\n",
      "32.753 --> 25.200 --> 24.792 --> 24.719 --> 24.680 --> 24.669 --> 24.661 --> 24.654 --> 24.649 --> 24.647 --> 24.646 --> 24.645 --> 24.644 --> 24.643 --> 24.642 --> 24.641 --> 24.640 --> 24.639 --> 24.639 --> 24.638 --> 24.636 --> 24.634 --> 24.631 --> 24.630 --> 24.629 --> 24.628 --> 24.627 --> 24.626 --> 24.625 --> 24.622 --> 24.618 --> 24.612 --> 24.610 --> 24.607 --> 24.604 --> 24.601 --> 24.600 --> 24.599 --> 24.597 --> 24.596 --> 24.594 --> 24.593 --> 24.591 --> 24.588 --> 24.583 --> 24.580 --> 24.578 --> 24.577 --> 24.577 --> 24.576 --> 24.576 --> 24.576 --> 24.576 --> 24.576 --> \n",
      "Init 55\n",
      "33.116 --> 25.545 --> 24.832 --> 24.672 --> 24.636 --> 24.628 --> 24.625 --> 24.624 --> 24.623 --> 24.623 --> 24.622 --> 24.622 --> 24.621 --> 24.621 --> 24.620 --> 24.620 --> 24.620 --> 24.620 --> \n",
      "Init 56\n",
      "33.412 --> 25.128 --> 24.843 --> 24.684 --> 24.641 --> 24.630 --> 24.624 --> 24.620 --> 24.617 --> 24.616 --> 24.616 --> 24.616 --> 24.615 --> 24.615 --> 24.614 --> 24.614 --> 24.614 --> \n",
      "Init 57\n",
      "33.190 --> 25.188 --> 24.783 --> 24.624 --> 24.516 --> 24.484 --> 24.470 --> 24.463 --> 24.460 --> 24.458 --> 24.457 --> 24.456 --> 24.455 --> 24.454 --> 24.454 --> 24.454 --> \n",
      "Init 58\n",
      "33.758 --> 24.329 --> 24.185 --> 24.163 --> 24.127 --> 24.079 --> 24.055 --> 24.046 --> 24.039 --> 24.034 --> 24.029 --> 24.026 --> 24.024 --> 24.022 --> 24.020 --> 24.019 --> 24.017 --> 24.017 --> 24.016 --> 24.015 --> 24.015 --> 24.015 --> \n",
      "Init 59\n",
      "33.880 --> 25.769 --> 25.600 --> 25.439 --> 25.285 --> 25.142 --> 25.036 --> 24.937 --> 24.836 --> 24.750 --> 24.650 --> 24.555 --> 24.490 --> 24.429 --> 24.359 --> 24.267 --> 24.196 --> 24.150 --> 24.131 --> 24.124 --> 24.120 --> 24.117 --> 24.116 --> 24.115 --> 24.115 --> 24.114 --> 24.114 --> 24.114 --> 24.114 --> 24.113 --> 24.112 --> 24.111 --> 24.109 --> 24.108 --> 24.107 --> 24.107 --> 24.107 --> 24.107 --> 24.107 --> \n",
      "Init 60\n",
      "39.867 --> 25.609 --> 24.940 --> 24.617 --> 24.574 --> 24.561 --> 24.560 --> 24.560 --> 24.559 --> 24.559 --> 24.559 --> 24.559 --> \n",
      "Init 61\n",
      "33.718 --> 26.054 --> 25.406 --> 25.222 --> 25.138 --> 25.086 --> 25.033 --> 24.962 --> 24.846 --> 24.700 --> 24.627 --> 24.605 --> 24.592 --> 24.584 --> 24.579 --> 24.575 --> 24.570 --> 24.567 --> 24.566 --> 24.565 --> 24.565 --> 24.565 --> 24.565 --> 24.565 --> 24.565 --> \n",
      "Init 62\n",
      "35.292 --> 25.835 --> 25.079 --> 24.613 --> 24.360 --> 24.258 --> 24.195 --> 24.158 --> 24.126 --> 24.114 --> 24.111 --> 24.110 --> 24.109 --> 24.109 --> 24.109 --> 24.109 --> 24.109 --> 24.109 --> 24.109 --> 24.109 --> 24.109 --> 24.108 --> 24.108 --> \n",
      "Init 63\n",
      "42.687 --> 25.520 --> 25.255 --> 24.950 --> 24.652 --> 24.562 --> 24.548 --> 24.545 --> 24.544 --> 24.544 --> 24.544 --> 24.544 --> 24.544 --> \n",
      "Init 64\n",
      "39.070 --> 26.860 --> 25.921 --> 25.236 --> 24.774 --> 24.540 --> 24.416 --> 24.382 --> 24.378 --> 24.376 --> 24.375 --> 24.375 --> 24.375 --> 24.375 --> 24.375 --> 24.375 --> 24.375 --> \n",
      "Init 65\n",
      "36.582 --> 27.826 --> 27.354 --> 27.114 --> 26.997 --> 26.907 --> 26.849 --> 26.815 --> 26.756 --> 26.653 --> 26.455 --> 26.193 --> 26.045 --> 26.006 --> 25.993 --> 25.982 --> 25.970 --> 25.960 --> 25.951 --> 25.947 --> 25.942 --> 25.936 --> 25.931 --> 25.919 --> 25.907 --> 25.903 --> 25.902 --> 25.900 --> 25.899 --> 25.899 --> 25.899 --> \n",
      "Init 66\n",
      "33.489 --> 25.012 --> 24.633 --> 24.381 --> 24.277 --> 24.233 --> 24.203 --> 24.184 --> 24.174 --> 24.160 --> 24.145 --> 24.129 --> 24.119 --> 24.115 --> 24.112 --> 24.110 --> 24.110 --> 24.109 --> 24.109 --> 24.108 --> 24.108 --> 24.108 --> 24.108 --> \n",
      "Init 67\n",
      "35.340 --> 27.074 --> 26.613 --> 26.304 --> 25.979 --> 25.937 --> 25.924 --> 25.914 --> 25.903 --> 25.893 --> 25.881 --> 25.843 --> 25.721 --> 25.314 --> 24.763 --> 24.639 --> 24.599 --> 24.584 --> 24.576 --> 24.571 --> 24.569 --> 24.567 --> 24.565 --> 24.563 --> 24.563 --> 24.563 --> 24.563 --> 24.563 --> 24.562 --> 24.562 --> 24.562 --> 24.562 --> 24.562 --> 24.562 --> 24.562 --> 24.562 --> 24.562 --> \n",
      "Init 68\n",
      "32.867 --> 26.864 --> 26.640 --> 26.263 --> 25.454 --> 25.030 --> 24.913 --> 24.864 --> 24.844 --> 24.838 --> 24.836 --> 24.833 --> 24.828 --> 24.826 --> 24.824 --> 24.821 --> 24.819 --> 24.818 --> 24.818 --> 24.817 --> 24.817 --> 24.817 --> 24.817 --> 24.817 --> 24.817 --> 24.817 --> \n",
      "Init 69\n",
      "34.041 --> 25.139 --> 24.580 --> 24.323 --> 24.202 --> 24.148 --> 24.123 --> 24.116 --> 24.114 --> 24.112 --> 24.111 --> 24.109 --> 24.108 --> 24.108 --> 24.108 --> 24.108 --> \n",
      "Init 70\n",
      "32.140 --> 25.318 --> 24.611 --> 24.332 --> 24.212 --> 24.156 --> 24.131 --> 24.122 --> 24.120 --> 24.118 --> 24.117 --> 24.117 --> 24.116 --> 24.116 --> 24.116 --> 24.115 --> 24.114 --> 24.112 --> 24.111 --> 24.110 --> 24.109 --> 24.108 --> 24.108 --> 24.108 --> \n",
      "Init 71\n",
      "34.087 --> 24.836 --> 24.644 --> 24.592 --> 24.493 --> 24.380 --> 24.268 --> 24.173 --> 24.115 --> 24.081 --> 24.059 --> 24.045 --> 24.038 --> 24.035 --> 24.031 --> 24.027 --> 24.021 --> 24.017 --> 24.015 --> 24.014 --> 24.013 --> 24.011 --> 24.011 --> 24.011 --> 24.011 --> \n",
      "Init 72\n",
      "36.633 --> 25.928 --> 25.068 --> 24.812 --> 24.704 --> 24.657 --> 24.633 --> 24.629 --> 24.627 --> 24.624 --> 24.621 --> 24.615 --> 24.611 --> 24.609 --> 24.606 --> 24.602 --> 24.601 --> 24.600 --> 24.598 --> 24.596 --> 24.595 --> 24.594 --> 24.592 --> 24.589 --> 24.585 --> 24.581 --> 24.579 --> 24.578 --> 24.577 --> 24.577 --> 24.576 --> 24.576 --> 24.576 --> 24.576 --> 24.576 --> \n",
      "Init 73\n",
      "34.397 --> 25.910 --> 25.071 --> 24.698 --> 24.534 --> 24.448 --> 24.372 --> 24.282 --> 24.203 --> 24.156 --> 24.133 --> 24.127 --> 24.124 --> 24.121 --> 24.118 --> 24.117 --> 24.117 --> 24.116 --> 24.116 --> 24.115 --> 24.115 --> 24.115 --> 24.115 --> 24.115 --> 24.114 --> 24.114 --> 24.113 --> 24.112 --> 24.111 --> 24.109 --> 24.108 --> 24.107 --> 24.107 --> 24.107 --> 24.107 --> 24.107 --> \n",
      "Init 74\n",
      "32.488 --> 25.109 --> 24.814 --> 24.703 --> 24.653 --> 24.627 --> 24.608 --> 24.595 --> 24.589 --> 24.586 --> 24.582 --> 24.578 --> 24.574 --> 24.572 --> 24.570 --> 24.569 --> 24.568 --> 24.567 --> 24.566 --> 24.566 --> 24.565 --> 24.565 --> 24.565 --> 24.565 --> 24.565 --> 24.565 --> \n",
      "Init 75\n",
      "35.182 --> 24.823 --> 24.501 --> 24.423 --> 24.389 --> 24.377 --> 24.375 --> 24.375 --> 24.375 --> 24.375 --> 24.375 --> 24.375 --> \n",
      "Init 76\n",
      "33.231 --> 24.812 --> 24.285 --> 24.151 --> 24.114 --> 24.087 --> 24.065 --> 24.047 --> 24.033 --> 24.026 --> 24.023 --> 24.020 --> 24.018 --> 24.017 --> 24.016 --> 24.015 --> 24.015 --> 24.015 --> \n",
      "Init 77\n",
      "36.481 --> 26.722 --> 25.800 --> 25.551 --> 25.410 --> 25.330 --> 25.273 --> 25.232 --> 25.201 --> 25.173 --> 25.153 --> 25.141 --> 25.134 --> 25.129 --> 25.125 --> 25.121 --> 25.115 --> 25.110 --> 25.106 --> 25.103 --> 25.100 --> 25.099 --> 25.098 --> 25.096 --> 25.095 --> 25.093 --> 25.092 --> 25.091 --> 25.091 --> 25.090 --> 25.090 --> 25.090 --> 25.090 --> \n",
      "Init 78\n",
      "33.536 --> 24.791 --> 24.567 --> 24.469 --> 24.383 --> 24.281 --> 24.212 --> 24.169 --> 24.153 --> 24.141 --> 24.131 --> 24.124 --> 24.120 --> 24.118 --> 24.115 --> 24.114 --> 24.114 --> 24.113 --> 24.112 --> 24.110 --> 24.108 --> 24.107 --> 24.107 --> 24.107 --> 24.107 --> 24.107 --> \n",
      "Init 79\n",
      "34.516 --> 24.444 --> 24.159 --> 24.129 --> 24.122 --> 24.118 --> 24.117 --> 24.117 --> 24.116 --> 24.116 --> 24.116 --> 24.116 --> 24.116 --> 24.116 --> 24.116 --> \n",
      "Init 80\n",
      "35.177 --> 24.635 --> 24.334 --> 24.257 --> 24.211 --> 24.187 --> 24.162 --> 24.144 --> 24.131 --> 24.124 --> 24.121 --> 24.119 --> 24.118 --> 24.117 --> 24.116 --> 24.116 --> 24.115 --> 24.114 --> 24.112 --> 24.111 --> 24.110 --> 24.109 --> 24.108 --> 24.108 --> 24.108 --> \n",
      "Init 81\n",
      "32.887 --> 24.556 --> 24.300 --> 24.201 --> 24.165 --> 24.140 --> 24.118 --> 24.112 --> 24.110 --> 24.109 --> 24.109 --> 24.109 --> 24.109 --> 24.109 --> 24.109 --> 24.109 --> 24.109 --> 24.109 --> 24.109 --> 24.109 --> 24.109 --> \n",
      "Init 82\n",
      "34.790 --> 25.897 --> 25.554 --> 25.261 --> 24.992 --> 24.793 --> 24.715 --> 24.674 --> 24.646 --> 24.635 --> 24.632 --> 24.630 --> 24.630 --> 24.629 --> 24.629 --> 24.629 --> 24.629 --> 24.629 --> \n",
      "Init 83\n",
      "39.367 --> 26.832 --> 25.991 --> 25.694 --> 25.371 --> 24.680 --> 24.131 --> 24.062 --> 24.041 --> 24.030 --> 24.023 --> 24.021 --> 24.019 --> 24.017 --> 24.016 --> 24.015 --> 24.014 --> 24.014 --> 24.014 --> \n",
      "Init 84\n",
      "37.414 --> 24.763 --> 24.369 --> 24.145 --> 24.073 --> 24.054 --> 24.046 --> 24.035 --> 24.026 --> 24.020 --> 24.016 --> 24.015 --> 24.015 --> 24.014 --> 24.013 --> 24.012 --> 24.012 --> 24.012 --> 24.012 --> 24.012 --> 24.012 --> 24.012 --> \n",
      "Init 85\n",
      "32.586 --> 24.954 --> 24.709 --> 24.631 --> 24.601 --> 24.586 --> 24.577 --> 24.571 --> 24.569 --> 24.567 --> 24.564 --> 24.563 --> 24.563 --> 24.563 --> 24.563 --> 24.562 --> 24.562 --> 24.562 --> 24.562 --> 24.562 --> 24.562 --> 24.562 --> 24.562 --> 24.562 --> \n",
      "Init 86\n",
      "34.222 --> 25.434 --> 25.130 --> 25.002 --> 24.934 --> 24.903 --> 24.888 --> 24.870 --> 24.849 --> 24.814 --> 24.691 --> 24.527 --> 24.433 --> 24.344 --> 24.275 --> 24.234 --> 24.211 --> 24.187 --> 24.176 --> 24.166 --> 24.152 --> 24.134 --> 24.121 --> 24.114 --> 24.111 --> 24.110 --> 24.109 --> 24.109 --> 24.109 --> 24.108 --> 24.108 --> 24.108 --> 24.108 --> 24.108 --> \n",
      "Init 87\n",
      "41.254 --> 25.313 --> 24.755 --> 24.554 --> 24.476 --> 24.434 --> 24.404 --> 24.369 --> 24.328 --> 24.283 --> 24.232 --> 24.174 --> 24.124 --> 24.093 --> 24.077 --> 24.066 --> 24.053 --> 24.043 --> 24.035 --> 24.029 --> 24.023 --> 24.018 --> 24.014 --> 24.012 --> 24.011 --> 24.011 --> 24.011 --> 24.011 --> 24.011 --> 24.011 --> 24.011 --> \n",
      "Init 88\n",
      "37.023 --> 25.132 --> 24.968 --> 24.884 --> 24.838 --> 24.804 --> 24.779 --> 24.759 --> 24.738 --> 24.717 --> 24.697 --> 24.675 --> 24.658 --> 24.636 --> 24.619 --> 24.609 --> 24.603 --> 24.595 --> 24.589 --> 24.585 --> 24.580 --> 24.574 --> 24.562 --> 24.554 --> 24.550 --> 24.548 --> 24.546 --> 24.546 --> 24.545 --> 24.545 --> \n",
      "Init 89\n",
      "33.314 --> 25.409 --> 25.187 --> 25.135 --> 25.110 --> 25.094 --> 25.076 --> 25.053 --> 25.022 --> 24.985 --> 24.943 --> 24.866 --> 24.621 --> 24.337 --> 24.200 --> 24.129 --> 24.097 --> 24.078 --> 24.067 --> 24.057 --> 24.045 --> 24.032 --> 24.022 --> 24.018 --> 24.016 --> 24.015 --> 24.015 --> 24.015 --> \n",
      "Init 90\n",
      "35.795 --> 25.128 --> 24.778 --> 24.567 --> 24.427 --> 24.336 --> 24.262 --> 24.197 --> 24.151 --> 24.133 --> 24.123 --> 24.121 --> 24.119 --> 24.118 --> 24.117 --> 24.116 --> 24.116 --> 24.115 --> 24.115 --> 24.115 --> 24.114 --> 24.113 --> 24.112 --> 24.111 --> 24.110 --> 24.109 --> 24.108 --> 24.108 --> 24.108 --> \n",
      "Init 91\n",
      "38.644 --> 24.842 --> 24.399 --> 24.224 --> 24.176 --> 24.160 --> 24.148 --> 24.137 --> 24.127 --> 24.122 --> 24.119 --> 24.117 --> 24.115 --> 24.114 --> 24.113 --> 24.112 --> 24.111 --> 24.109 --> 24.108 --> 24.107 --> 24.107 --> 24.107 --> 24.107 --> 24.107 --> \n",
      "Init 92\n",
      "47.428 --> 27.610 --> 26.671 --> 26.360 --> 25.903 --> 24.975 --> 24.435 --> 24.254 --> 24.193 --> 24.168 --> 24.155 --> 24.147 --> 24.137 --> 24.131 --> 24.125 --> 24.120 --> 24.118 --> 24.115 --> 24.113 --> 24.112 --> 24.111 --> 24.109 --> 24.108 --> 24.107 --> 24.107 --> 24.107 --> 24.107 --> 24.107 --> \n",
      "Init 93\n",
      "36.397 --> 26.820 --> 26.348 --> 26.096 --> 25.885 --> 25.710 --> 25.446 --> 25.141 --> 24.909 --> 24.694 --> 24.550 --> 24.466 --> 24.389 --> 24.324 --> 24.265 --> 24.203 --> 24.147 --> 24.109 --> 24.087 --> 24.072 --> 24.056 --> 24.044 --> 24.037 --> 24.031 --> 24.024 --> 24.019 --> 24.016 --> 24.015 --> 24.014 --> 24.014 --> 24.014 --> 24.013 --> 24.013 --> 24.013 --> 24.013 --> 24.013 --> 24.012 --> 24.012 --> 24.012 --> 24.012 --> 24.012 --> 24.012 --> 24.011 --> 24.011 --> 24.011 --> 24.011 --> 24.011 --> 24.011 --> 24.011 --> \n",
      "Init 94\n",
      "34.634 --> 25.925 --> 25.068 --> 24.564 --> 24.319 --> 24.208 --> 24.160 --> 24.135 --> 24.116 --> 24.109 --> 24.108 --> 24.107 --> 24.107 --> 24.107 --> 24.107 --> 24.107 --> 24.107 --> \n",
      "Init 95\n",
      "36.264 --> 25.036 --> 24.568 --> 24.363 --> 24.265 --> 24.220 --> 24.195 --> 24.180 --> 24.160 --> 24.143 --> 24.129 --> 24.123 --> 24.120 --> 24.118 --> 24.117 --> 24.115 --> 24.113 --> 24.112 --> 24.110 --> 24.109 --> 24.108 --> 24.108 --> 24.108 --> \n",
      "Init 96\n",
      "35.494 --> 26.247 --> 25.863 --> 25.487 --> 25.167 --> 25.009 --> 24.905 --> 24.832 --> 24.777 --> 24.727 --> 24.702 --> 24.685 --> 24.679 --> 24.673 --> 24.664 --> 24.656 --> 24.652 --> 24.645 --> 24.640 --> 24.634 --> 24.628 --> 24.619 --> 24.609 --> 24.597 --> 24.589 --> 24.577 --> 24.561 --> 24.545 --> 24.533 --> 24.525 --> 24.517 --> 24.507 --> 24.496 --> 24.487 --> 24.484 --> 24.481 --> 24.479 --> 24.474 --> 24.471 --> 24.468 --> 24.464 --> 24.461 --> 24.460 --> 24.459 --> 24.459 --> 24.458 --> 24.457 --> 24.457 --> 24.457 --> 24.456 --> 24.456 --> 24.455 --> 24.455 --> 24.455 --> 24.454 --> 24.454 --> 24.454 --> 24.454 --> \n",
      "Init 97\n",
      "30.816 --> 25.332 --> 25.070 --> 24.993 --> 24.913 --> 24.782 --> 24.658 --> 24.617 --> 24.610 --> 24.605 --> 24.604 --> 24.603 --> 24.601 --> 24.598 --> 24.596 --> 24.595 --> 24.594 --> 24.594 --> 24.594 --> \n",
      "Init 98\n",
      "32.081 --> 26.595 --> 26.193 --> 25.745 --> 24.905 --> 24.394 --> 24.284 --> 24.235 --> 24.204 --> 24.176 --> 24.156 --> 24.143 --> 24.136 --> 24.128 --> 24.119 --> 24.114 --> 24.113 --> 24.111 --> 24.110 --> 24.109 --> 24.108 --> 24.108 --> 24.107 --> 24.107 --> 24.107 --> 24.107 --> \n",
      "Init 99\n",
      "37.977 --> 25.812 --> 25.520 --> 25.390 --> 25.286 --> 25.178 --> 25.043 --> 24.866 --> 24.723 --> 24.640 --> 24.602 --> 24.580 --> 24.571 --> 24.567 --> 24.565 --> 24.563 --> 24.562 --> 24.562 --> 24.562 --> 24.562 --> 24.562 --> 24.562 --> 24.562 --> \n",
      "Init 100\n",
      "34.967 --> 24.660 --> 24.275 --> 24.179 --> 24.152 --> 24.135 --> 24.126 --> 24.121 --> 24.118 --> 24.117 --> 24.117 --> 24.117 --> 24.117 --> 24.116 --> 24.116 --> 24.116 --> 24.116 --> 24.115 --> 24.115 --> 24.115 --> 24.114 --> 24.113 --> 24.112 --> 24.111 --> 24.110 --> 24.109 --> 24.108 --> 24.108 --> 24.108 --> \n"
     ]
    },
    {
     "data": {
      "text/plain": [
       "TimeSeriesKMeans(max_iter=100, n_clusters=5, n_init=100, random_state=2019,\n",
       "                 verbose=1)"
      ]
     },
     "execution_count": 25,
     "metadata": {},
     "output_type": "execute_result"
    }
   ],
   "source": [
    "## 시계열 k-평균을 사용한 훈련\n",
    "# https://tslearn.readthedocs.io/en/stable/gen_modules/clustering/tslearn.clustering.TimeSeriesKMeans.html\n",
    "# TimeSeriesKMeans: metric={\"euclidean\", \"dtw\", \"softdtw\"}, default는 euclidean\n",
    "\n",
    "km = TimeSeriesKMeans(n_clusters=5, max_iter=100, n_init=100, metric=\"euclidean\", verbose=1, random_state=2019)  \n",
    "km.fit(X_train)"
   ]
  },
  {
   "cell_type": "code",
   "execution_count": 26,
   "metadata": {
    "colab": {
     "base_uri": "https://localhost:8080/"
    },
    "id": "ksMNHGTw85nH",
    "outputId": "abc27e89-b6ec-4d59-ec81-aac58bf366ac"
   },
   "outputs": [
    {
     "name": "stdout",
     "output_type": "stream",
     "text": [
      "Adjusted Rand Index of Time Series k-Means on Training Set: 0.5063464656715959\n"
     ]
    }
   ],
   "source": [
    "## 훈련 셋에 대한 예측값 생성 및 수정된 Rand 지수를 사용한 평가\n",
    "preds = km.predict(X_train)\n",
    "ars = adjusted_rand_score(data_train[:,0],preds)\n",
    "print(\"Adjusted Rand Index of Time Series k-Means on Training Set:\", ars)"
   ]
  },
  {
   "cell_type": "code",
   "execution_count": 27,
   "metadata": {
    "colab": {
     "base_uri": "https://localhost:8080/"
    },
    "id": "mpWUhLXE_N8X",
    "outputId": "ad67e1e7-3b93-4c94-d6a9-48dcfdc463d8"
   },
   "outputs": [
    {
     "name": "stdout",
     "output_type": "stream",
     "text": [
      "Adjusted Rand Index of Time Series k-Means on Test Set: 0.4864981997585834\n"
     ]
    }
   ],
   "source": [
    "## 테스트 셋에 대한 예측값 생성 및 수정된 Rand 지수를 사용한 평가\n",
    "preds_test = km.predict(X_test)\n",
    "ars = adjusted_rand_score(data_test[:,0],preds_test)\n",
    "print(\"Adjusted Rand Index of Time Series k-Means on Test Set:\", ars)"
   ]
  },
  {
   "cell_type": "code",
   "execution_count": 28,
   "metadata": {
    "id": "zqySUdDGI3Lj"
   },
   "outputs": [],
   "source": [
    "### DBSCAN(Density-Based Spatial Clustering of Applications with Noise): 데이터 포인트의 밀도에 따라 그룹화\n",
    "# 밀접하게 묶인 포인트를 함께 그룹화한다\n",
    "# 밀접하게 묶인: 특정 거리 내에 존재하는 데이터 포인트의 최소개수\n",
    "# 만약 어떤 데이터 포인트가 여러 군집의 특정 거리 내에 있으면 그 포인트는 그 중에서 가장 밀도가 높은 군집과 그룹화한다.\n",
    "# 그리고 다른 군집의 특정 거리 내에 있지 않은 인스턴스는 모두 이상치로 표시한다.\n",
    "# 따라서 DBSCAN은 군집 수를 미리 설정할 필요가 없다."
   ]
  },
  {
   "cell_type": "code",
   "execution_count": 29,
   "metadata": {
    "id": "ODOw1e_MMWqo"
   },
   "outputs": [],
   "source": [
    "### HDBSCAN(Hierarchical DBSCAN)\n",
    "# DBSCAN 알고리즘을 계층적 클러스터링 알고리즘으로 변환한다.\n",
    "# 즉, 밀도를 기반으로 그룹화하고, 계층적 클러스터링 알고리즘처럼 거리를 기준으로 밀도 기반 군집을 반복적으로 연결한다."
   ]
  },
  {
   "cell_type": "code",
   "execution_count": 30,
   "metadata": {
    "id": "Pz_TsbDQKCco"
   },
   "outputs": [],
   "source": [
    "### DBSCAN과 HDBSCAN의 차이점\n",
    "# https://dodonam.tistory.com/326"
   ]
  },
  {
   "cell_type": "code",
   "execution_count": 31,
   "metadata": {
    "colab": {
     "base_uri": "https://localhost:8080/"
    },
    "id": "IH7gFEZZDpUM",
    "outputId": "c26deba0-b8db-487b-96c4-4be6a740a499"
   },
   "outputs": [
    {
     "name": "stdout",
     "output_type": "stream",
     "text": [
      "Adjusted Rand Index on Training Set: 0.7628260922190984\n"
     ]
    }
   ],
   "source": [
    "### HDBSCAN(Hierarchical DBSCAN)\n",
    "## https://hdbscan.readthedocs.io/en/latest/\n",
    "## https://teamdable.github.io/techblog/Unsupervised-hdbscan\n",
    "\n",
    "## 훈련 모델 및 테스트 셋에 대한 평가\n",
    "min_cluster_size = 5\n",
    "min_samples = None       # 만약 min_samples를 None으로 설정하면 min_cluster_size로 기본 설정된다.\n",
    "alpha = 1.0\n",
    "cluster_selection_method = 'eom'\n",
    "prediction_data = True\n",
    "\n",
    "hdb = hdbscan.HDBSCAN(min_cluster_size=min_cluster_size, \\\n",
    "                      min_samples=min_samples, alpha=alpha, \\\n",
    "                      cluster_selection_method=cluster_selection_method, \\\n",
    "                      prediction_data=prediction_data)\n",
    "\n",
    "preds = hdb.fit_predict(X_train.reshape(4000,140))\n",
    "ars = adjusted_rand_score(data_train[:,0],preds)\n",
    "print(\"Adjusted Rand Index on Training Set:\", ars)"
   ]
  },
  {
   "cell_type": "code",
   "execution_count": 32,
   "metadata": {
    "colab": {
     "base_uri": "https://localhost:8080/"
    },
    "id": "WuqAP0FyEHXI",
    "outputId": "96583bcf-e042-4091-d772-d8123ae297e7"
   },
   "outputs": [
    {
     "name": "stdout",
     "output_type": "stream",
     "text": [
      "Adjusted Rand Index on Test Set: 0.7230550599125711\n"
     ]
    }
   ],
   "source": [
    "## 테스트 셋에 대한 예측값 생성 및 평가\n",
    "preds_test = hdbscan.prediction.approximate_predict( \\\n",
    "                hdb, X_test.reshape(1000,140))\n",
    "ars = adjusted_rand_score(data_test[:,0],preds_test[0])\n",
    "print(\"Adjusted Rand Index on Test Set:\", ars)"
   ]
  }
 ],
 "metadata": {
  "accelerator": "GPU",
  "colab": {
   "collapsed_sections": [],
   "name": "TS_Clustering-2.ipynb",
   "provenance": []
  },
  "kernelspec": {
   "display_name": "Python 3",
   "language": "python",
   "name": "python3"
  },
  "language_info": {
   "codemirror_mode": {
    "name": "ipython",
    "version": 3
   },
   "file_extension": ".py",
   "mimetype": "text/x-python",
   "name": "python",
   "nbconvert_exporter": "python",
   "pygments_lexer": "ipython3",
   "version": "3.8.8"
  },
  "toc": {
   "base_numbering": 1,
   "nav_menu": {},
   "number_sections": true,
   "sideBar": true,
   "skip_h1_title": false,
   "title_cell": "Table of Contents",
   "title_sidebar": "Contents",
   "toc_cell": false,
   "toc_position": {},
   "toc_section_display": true,
   "toc_window_display": false
  },
  "varInspector": {
   "cols": {
    "lenName": 16,
    "lenType": 16,
    "lenVar": 40
   },
   "kernels_config": {
    "python": {
     "delete_cmd_postfix": "",
     "delete_cmd_prefix": "del ",
     "library": "var_list.py",
     "varRefreshCmd": "print(var_dic_list())"
    },
    "r": {
     "delete_cmd_postfix": ") ",
     "delete_cmd_prefix": "rm(",
     "library": "var_list.r",
     "varRefreshCmd": "cat(var_dic_list()) "
    }
   },
   "types_to_exclude": [
    "module",
    "function",
    "builtin_function_or_method",
    "instance",
    "_Feature"
   ],
   "window_display": false
  }
 },
 "nbformat": 4,
 "nbformat_minor": 1
}
